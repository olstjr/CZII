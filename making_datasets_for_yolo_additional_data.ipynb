{
  "metadata": {
    "kernelspec": {
      "name": "python3",
      "display_name": "Python 3",
      "language": "python"
    },
    "language_info": {
      "name": "python",
      "version": "3.10.14",
      "mimetype": "text/x-python",
      "codemirror_mode": {
        "name": "ipython",
        "version": 3
      },
      "pygments_lexer": "ipython3",
      "nbconvert_exporter": "python",
      "file_extension": ".py"
    },
    "kaggle": {
      "accelerator": "none",
      "dataSources": [
        {
          "sourceId": 84969,
          "databundleVersionId": 10033515,
          "sourceType": "competition"
        },
        {
          "sourceId": 9902245,
          "sourceType": "datasetVersion",
          "datasetId": 6083037
        }
      ],
      "dockerImageVersionId": 30804,
      "isInternetEnabled": true,
      "language": "python",
      "sourceType": "notebook",
      "isGpuEnabled": false
    },
    "papermill": {
      "default_parameters": {},
      "duration": 104.820086,
      "end_time": "2024-12-05T09:07:06.020274",
      "environment_variables": {},
      "exception": null,
      "input_path": "__notebook__.ipynb",
      "output_path": "__notebook__.ipynb",
      "parameters": {},
      "start_time": "2024-12-05T09:05:21.200188",
      "version": "2.6.0"
    },
    "colab": {
      "provenance": [],
      "include_colab_link": true
    }
  },
  "nbformat_minor": 0,
  "nbformat": 4,
  "cells": [
    {
      "cell_type": "markdown",
      "metadata": {
        "id": "view-in-github",
        "colab_type": "text"
      },
      "source": [
        "<a href=\"https://colab.research.google.com/github/olstjr/CZII-CryoET_Object_Identification/blob/main/making_datasets_for_yolo_additional_data.ipynb\" target=\"_parent\"><img src=\"https://colab.research.google.com/assets/colab-badge.svg\" alt=\"Open In Colab\"/></a>"
      ]
    },
    {
      "cell_type": "markdown",
      "source": [
        "\n",
        "# CZII: Creating Datasets for YOLO with Additional Data\n",
        "\n",
        "This is an modified version of @ITK8191 notebook for generating datasets with additional synthetic data, denoised using Gaussian denoising. Check out the original notebook by [@ITK8191](https://www.kaggle.com/code/itsuki9180/czii-making-datasets-for-yolo).\n",
        "\n",
        "There have been various discussions in the competition community regarding whether models trained with synthetic data perform better. For example, see the [David List discussion](https://www.kaggle.com/competitions/czii-cryo-et-object-identification/discussion/555247).\n",
        "\n",
        "In my experiments, this was indeed true for YOLO. If someone manages to incorporate the original denoise model or IsoNet, I’m sure that better results could be achieved.\n",
        "\n",
        "\n",
        "Weights for the model can be find here [CZII YOLO L trained with synthetic data\n",
        "](https://www.kaggle.com/datasets/sersasj/czii-yolo-l-trained-with-synthetic-data).  \n",
        "model was trained with TS_5_4, TS_69_2 TS_6_4 TS_6_6 as validation.\n"
      ],
      "metadata": {
        "id": "BIeJOQo_iYSF"
      }
    },
    {
      "cell_type": "markdown",
      "source": [
        "# Install and Import Modules"
      ],
      "metadata": {
        "_uuid": "2e538122-a0c3-4dab-963f-ca3fec61a155",
        "_cell_guid": "736bdd25-fc27-4ced-bdcb-3e17c2eaa80f",
        "trusted": true,
        "collapsed": false,
        "jupyter": {
          "outputs_hidden": false
        },
        "id": "h7xsemXGiYSM"
      }
    },
    {
      "cell_type": "code",
      "source": [
        "!pip install zarr opencv-python\n",
        "!pip install SimpleITK\n",
        "!rm -rf /kaggle/working/*"
      ],
      "metadata": {
        "_uuid": "c47f4213-e8e9-4daa-8f6e-2534f2330d9d",
        "_cell_guid": "51687ee2-978f-4364-aed1-f4a8051735db",
        "trusted": true,
        "jupyter": {
          "outputs_hidden": false
        },
        "execution": {
          "iopub.status.busy": "2025-01-27T15:58:50.908675Z",
          "iopub.execute_input": "2025-01-27T15:58:50.909616Z",
          "iopub.status.idle": "2025-01-27T15:59:19.934482Z",
          "shell.execute_reply.started": "2025-01-27T15:58:50.909559Z",
          "shell.execute_reply": "2025-01-27T15:59:19.932750Z"
        },
        "id": "qkoA3kpNiYSN",
        "outputId": "dabec7b5-7f13-4d46-d605-ff62163bca15"
      },
      "outputs": [
        {
          "name": "stdout",
          "text": "Collecting zarr\n  Downloading zarr-2.18.3-py3-none-any.whl.metadata (5.7 kB)\nRequirement already satisfied: opencv-python in /opt/conda/lib/python3.10/site-packages (4.10.0.84)\nCollecting asciitree (from zarr)\n  Downloading asciitree-0.3.3.tar.gz (4.0 kB)\n  Preparing metadata (setup.py) ... \u001b[?25ldone\n\u001b[?25hRequirement already satisfied: numpy>=1.24 in /opt/conda/lib/python3.10/site-packages (from zarr) (1.26.4)\nCollecting numcodecs>=0.10.0 (from zarr)\n  Downloading numcodecs-0.13.1-cp310-cp310-manylinux_2_17_x86_64.manylinux2014_x86_64.whl.metadata (2.9 kB)\nRequirement already satisfied: fasteners in /opt/conda/lib/python3.10/site-packages (from zarr) (0.19)\nDownloading zarr-2.18.3-py3-none-any.whl (210 kB)\n\u001b[2K   \u001b[90m━━━━━━━━━━━━━━━━━━━━━━━━━━━━━━━━━━━━━━━━\u001b[0m \u001b[32m210.7/210.7 kB\u001b[0m \u001b[31m4.8 MB/s\u001b[0m eta \u001b[36m0:00:00\u001b[0mta \u001b[36m0:00:01\u001b[0m\n\u001b[?25hDownloading numcodecs-0.13.1-cp310-cp310-manylinux_2_17_x86_64.manylinux2014_x86_64.whl (8.6 MB)\n\u001b[2K   \u001b[90m━━━━━━━━━━━━━━━━━━━━━━━━━━━━━━━━━━━━━━━━\u001b[0m \u001b[32m8.6/8.6 MB\u001b[0m \u001b[31m66.0 MB/s\u001b[0m eta \u001b[36m0:00:00\u001b[0m:00:01\u001b[0m00:01\u001b[0m\n\u001b[?25hBuilding wheels for collected packages: asciitree\n  Building wheel for asciitree (setup.py) ... \u001b[?25ldone\n\u001b[?25h  Created wheel for asciitree: filename=asciitree-0.3.3-py3-none-any.whl size=5034 sha256=b14a11012400beb6777bd1a0987b05ceb52f0cd42cadb837e813de9684ce8d50\n  Stored in directory: /root/.cache/pip/wheels/7f/4e/be/1171b40f43b918087657ec57cf3b81fa1a2e027d8755baa184\nSuccessfully built asciitree\nInstalling collected packages: asciitree, numcodecs, zarr\nSuccessfully installed asciitree-0.3.3 numcodecs-0.13.1 zarr-2.18.3\nRequirement already satisfied: SimpleITK in /opt/conda/lib/python3.10/site-packages (2.4.0)\n",
          "output_type": "stream"
        }
      ],
      "execution_count": null
    },
    {
      "cell_type": "code",
      "source": [
        "import json\n",
        "import numpy as np\n",
        "import pandas as pd\n",
        "import matplotlib.pyplot as plt\n",
        "import zarr\n",
        "from tqdm import tqdm\n",
        "import glob, os\n",
        "import cv2\n",
        "import shutil\n",
        "import SimpleITK as sitk\n"
      ],
      "metadata": {
        "_uuid": "e19a24b5-9a8e-4758-9466-dc82945251d5",
        "_cell_guid": "a5452423-001e-4d09-9e1b-2fe60d390fa9",
        "trusted": true,
        "jupyter": {
          "outputs_hidden": false
        },
        "execution": {
          "iopub.status.busy": "2025-01-27T15:59:19.936926Z",
          "iopub.execute_input": "2025-01-27T15:59:19.937314Z",
          "iopub.status.idle": "2025-01-27T15:59:21.376130Z",
          "shell.execute_reply.started": "2025-01-27T15:59:19.937276Z",
          "shell.execute_reply": "2025-01-27T15:59:21.374751Z"
        },
        "id": "k_UZ3c6diYSQ"
      },
      "outputs": [],
      "execution_count": null
    },
    {
      "cell_type": "code",
      "source": [
        "runs = sorted(glob.glob('/kaggle/input/czii-cryo-et-object-identification/train/overlay/ExperimentRuns/*'))\n",
        "print(runs)\n",
        "runs = [os.path.basename(x) for x in runs]\n",
        "additional_runs = sorted(glob.glob('/kaggle/input/czii10441/10441/T*'))\n",
        "print(additional_runs)\n",
        "additional_runs = [os.path.basename(x) for x in additional_runs]\n",
        "runs = runs + additional_runs\n",
        "i2r_dict = {i: r for i, r in zip(range(len(runs)), runs)}\n",
        "r2t_dict = {r: i for i, r in zip(range(len(runs)), runs)}\n",
        "print(\"Runs:\", i2r_dict)\n",
        "#데이터를 추가하여 합친 후 YOLO학습용 데이터셋을 구축"
      ],
      "metadata": {
        "_uuid": "dfdbf477-3136-4e21-b984-169ebc610cda",
        "_cell_guid": "7f87b90b-b803-44fa-817b-54ef06b8cc02",
        "trusted": true,
        "jupyter": {
          "outputs_hidden": false
        },
        "execution": {
          "iopub.status.busy": "2025-01-27T15:59:21.377922Z",
          "iopub.execute_input": "2025-01-27T15:59:21.378776Z",
          "iopub.status.idle": "2025-01-27T15:59:21.413118Z",
          "shell.execute_reply.started": "2025-01-27T15:59:21.378719Z",
          "shell.execute_reply": "2025-01-27T15:59:21.411260Z"
        },
        "id": "_7AzMjf1iYSR",
        "outputId": "9012a31c-1014-46b5-e1d3-53c399a12318"
      },
      "outputs": [
        {
          "name": "stdout",
          "text": "['/kaggle/input/czii-cryo-et-object-identification/train/overlay/ExperimentRuns/TS_5_4', '/kaggle/input/czii-cryo-et-object-identification/train/overlay/ExperimentRuns/TS_69_2', '/kaggle/input/czii-cryo-et-object-identification/train/overlay/ExperimentRuns/TS_6_4', '/kaggle/input/czii-cryo-et-object-identification/train/overlay/ExperimentRuns/TS_6_6', '/kaggle/input/czii-cryo-et-object-identification/train/overlay/ExperimentRuns/TS_73_6', '/kaggle/input/czii-cryo-et-object-identification/train/overlay/ExperimentRuns/TS_86_3', '/kaggle/input/czii-cryo-et-object-identification/train/overlay/ExperimentRuns/TS_99_9']\n['/kaggle/input/czii10441/10441/TS_0', '/kaggle/input/czii10441/10441/TS_1', '/kaggle/input/czii10441/10441/TS_10', '/kaggle/input/czii10441/10441/TS_11', '/kaggle/input/czii10441/10441/TS_12', '/kaggle/input/czii10441/10441/TS_13', '/kaggle/input/czii10441/10441/TS_14', '/kaggle/input/czii10441/10441/TS_15', '/kaggle/input/czii10441/10441/TS_16', '/kaggle/input/czii10441/10441/TS_17', '/kaggle/input/czii10441/10441/TS_18', '/kaggle/input/czii10441/10441/TS_19', '/kaggle/input/czii10441/10441/TS_2', '/kaggle/input/czii10441/10441/TS_20', '/kaggle/input/czii10441/10441/TS_21', '/kaggle/input/czii10441/10441/TS_22', '/kaggle/input/czii10441/10441/TS_23', '/kaggle/input/czii10441/10441/TS_24', '/kaggle/input/czii10441/10441/TS_25', '/kaggle/input/czii10441/10441/TS_26', '/kaggle/input/czii10441/10441/TS_3', '/kaggle/input/czii10441/10441/TS_4', '/kaggle/input/czii10441/10441/TS_5', '/kaggle/input/czii10441/10441/TS_6', '/kaggle/input/czii10441/10441/TS_7', '/kaggle/input/czii10441/10441/TS_8', '/kaggle/input/czii10441/10441/TS_9']\nRuns: {0: 'TS_5_4', 1: 'TS_69_2', 2: 'TS_6_4', 3: 'TS_6_6', 4: 'TS_73_6', 5: 'TS_86_3', 6: 'TS_99_9', 7: 'TS_0', 8: 'TS_1', 9: 'TS_10', 10: 'TS_11', 11: 'TS_12', 12: 'TS_13', 13: 'TS_14', 14: 'TS_15', 15: 'TS_16', 16: 'TS_17', 17: 'TS_18', 18: 'TS_19', 19: 'TS_2', 20: 'TS_20', 21: 'TS_21', 22: 'TS_22', 23: 'TS_23', 24: 'TS_24', 25: 'TS_25', 26: 'TS_26', 27: 'TS_3', 28: 'TS_4', 29: 'TS_5', 30: 'TS_6', 31: 'TS_7', 32: 'TS_8', 33: 'TS_9'}\n",
          "output_type": "stream"
        }
      ],
      "execution_count": null
    },
    {
      "cell_type": "markdown",
      "source": [
        "# Normalize Function\n",
        "Normalize the image to a value between 0 and 255."
      ],
      "metadata": {
        "_uuid": "2aab94e2-68df-4cf9-b2f6-2fe18b3d6ee0",
        "_cell_guid": "77ca1180-b9b3-4c11-9b95-818e1625529a",
        "trusted": true,
        "collapsed": false,
        "jupyter": {
          "outputs_hidden": false
        },
        "id": "nMHCdRGKiYSR"
      }
    },
    {
      "cell_type": "code",
      "source": [
        "def convert_to_8bit(x):\n",
        "    lower, upper = np.percentile(x, (0.5, 99.5)) #이상치 제거\n",
        "    x = np.clip(x, lower, upper) #이상치 제외한 범위 클리핑\n",
        "    x = (x - x.min()) / (x.max() - x.min() + 1e-12) * 255 #정규화\n",
        "    return x.round().astype(\"uint8\") #8비트 정수로 변환\n",
        "\n",
        "    #입력데이터를 정규화하는 함수"
      ],
      "metadata": {
        "_uuid": "3ba10d74-2f36-497d-a2a9-b733d622cfa9",
        "_cell_guid": "054c7292-d91d-41f6-b487-b0ba5663b11c",
        "trusted": true,
        "jupyter": {
          "outputs_hidden": false
        },
        "execution": {
          "iopub.status.busy": "2025-01-27T15:59:21.415769Z",
          "iopub.execute_input": "2025-01-27T15:59:21.416146Z",
          "iopub.status.idle": "2025-01-27T15:59:21.422970Z",
          "shell.execute_reply.started": "2025-01-27T15:59:21.416108Z",
          "shell.execute_reply": "2025-01-27T15:59:21.420963Z"
        },
        "id": "OcCW7FbpiYSS"
      },
      "outputs": [],
      "execution_count": null
    },
    {
      "cell_type": "markdown",
      "source": [],
      "metadata": {
        "id": "O4Vhzdi5jCAQ"
      }
    },
    {
      "cell_type": "markdown",
      "source": [
        "# Information about Labels"
      ],
      "metadata": {
        "_uuid": "84679000-637f-435a-8533-5200f48461a4",
        "_cell_guid": "604020c8-ee33-40b7-b4c4-7c856afbc050",
        "trusted": true,
        "collapsed": false,
        "jupyter": {
          "outputs_hidden": false
        },
        "id": "ghk7pwbHiYST"
      }
    },
    {
      "cell_type": "code",
      "source": [
        "p2i_dict = {\n",
        "    'apo-ferritin': 0,\n",
        "    'beta-amylase': 1,\n",
        "    'beta-galactosidase': 2,\n",
        "    'ribosome': 3,\n",
        "    'thyroglobulin': 4,\n",
        "    'virus-like-particle': 5\n",
        "} #입자 이름 정수로 매핑(YOLO)\n",
        "\n",
        "i2p = {v: k for k, v in p2i_dict.items()} #p2i->i2p\n",
        "\n",
        "particle_radius = {\n",
        "    'apo-ferritin': 60,\n",
        "    'beta-amylase': 65,\n",
        "    'beta-galactosidase': 90,\n",
        "    'ribosome': 150,\n",
        "    'thyroglobulin': 130,\n",
        "    'virus-like-particle': 135,\n",
        "} #반지름 매핑\n",
        "\n",
        "particle_names = ['apo-ferritin', 'beta-amylase', 'beta-galactosidase',\n",
        "                  'ribosome', 'thyroglobulin', 'virus-like-particle']\n",
        "                  #입자이름 리스트로 저장"
      ],
      "metadata": {
        "_uuid": "88e9a2c2-4b0e-47e0-a6a8-7d808745d834",
        "_cell_guid": "bdc150d8-88f7-47e7-96e0-a07d0f0333ea",
        "trusted": true,
        "jupyter": {
          "outputs_hidden": false
        },
        "execution": {
          "iopub.status.busy": "2025-01-27T15:59:21.424625Z",
          "iopub.execute_input": "2025-01-27T15:59:21.425109Z",
          "iopub.status.idle": "2025-01-27T15:59:21.440935Z",
          "shell.execute_reply.started": "2025-01-27T15:59:21.425058Z",
          "shell.execute_reply": "2025-01-27T15:59:21.439622Z"
        },
        "id": "Et3bNrTniYSU"
      },
      "outputs": [],
      "execution_count": null
    },
    {
      "cell_type": "code",
      "source": [
        "\n",
        "from scipy.ndimage import gaussian_filter, median_filter\n",
        "\n",
        "def denoise_tomogram(tomogram, method='gaussian', **kwargs):\n",
        "    \"\"\"\n",
        "    Apply denoising to a tomogram.\n",
        "\n",
        "    Parameters:\n",
        "        tomogram (np.ndarray): The input t(omogram to denoise.\n",
        "        method (str): The denoising method 'gaussian' or 'median').\n",
        "        kwargs: Parameters for the respective method.선택할 필터의 추가 설정값\n",
        "\n",
        "    Returns:\n",
        "        np.ndarray: The denoised tomogram.\n",
        "    \"\"\"\n",
        "    if method == 'gaussian':\n",
        "        return gaussian_filter(tomogram, sigma=kwargs.get('sigma', 1))\n",
        "    elif method == 'median':\n",
        "        return median_filter(tomogram, size=kwargs.get('size', 3))\n",
        "    else: #이름 잘못 입력하면 오류 생성\n",
        "        raise ValueError(f\"Unsupported denoising method: {method}\")"
      ],
      "metadata": {
        "_uuid": "94713e56-ee02-41e9-8e75-bb37a835d664",
        "_cell_guid": "a95de667-0335-427e-a4c4-62d6c7c47033",
        "trusted": true,
        "execution": {
          "iopub.status.busy": "2025-01-27T15:59:21.442520Z",
          "iopub.execute_input": "2025-01-27T15:59:21.442894Z",
          "iopub.status.idle": "2025-01-27T15:59:21.665211Z",
          "shell.execute_reply.started": "2025-01-27T15:59:21.442856Z",
          "shell.execute_reply": "2025-01-27T15:59:21.663368Z"
        },
        "jupyter": {
          "outputs_hidden": false
        },
        "id": "Bh9oz5lRiYSU"
      },
      "outputs": [],
      "execution_count": null
    },
    {
      "cell_type": "code",
      "source": [
        "def volume_wise_histogram_matching_3d(sim_tomogram, real_tomogram):\n",
        "    \"\"\"\n",
        "    3D 토모그램에 Volume-wise 3D Histogram Matching 적용 - 한 이미지의 픽셀 값 분포를 다른 이미지의 분포와 일치시킴.\n",
        "    Args:\n",
        "        sim_tomogram (np.ndarray): 시뮬레이션 3D 토모그램 (NumPy 배열).\n",
        "        real_tomogram (np.ndarray): 실제 3D 토모그램 (NumPy 배열, 참조 이미지).\n",
        "\n",
        "    Returns:\n",
        "        np.ndarray: Histogram matching이 적용된 3D 토모그램 (NumPy 배열).\n",
        "    \"\"\"\n",
        "    # NumPy 배열을 SimpleITK 이미지 객체로 변환/simpleITK는 영상변환이 쉬운 의료영상 처리 라이브러리\n",
        "    sim_tomogram_sitk = sitk.GetImageFromArray(sim_tomogram)\n",
        "    real_tomogram_sitk = sitk.GetImageFromArray(real_tomogram)\n",
        "\n",
        "    # HistogramMatchingImageFilter 생성\n",
        "    histogram_matcher = sitk.HistogramMatchingImageFilter()\n",
        "\n",
        "    # 필터 파라미터 설정 (선택 사항, 필요에 따라 조정)\n",
        "    histogram_matcher.SetNumberOfHistogramLevels(1024) # 히스토그램 레벨 수 (기본값: 128)/클수록 세밀한 매칭\n",
        "    histogram_matcher.SetNumberOfMatchPoints(7)   # 매칭 포인트 수 (기본값: 7)\n",
        "\n",
        "    # Histogram Matching 필터 실행\n",
        "    matched_tomogram_sitk = histogram_matcher.Execute(sim_tomogram_sitk, real_tomogram_sitk)\n",
        "\n",
        "    # SimpleITK 이미지 객체를 NumPy 배열로 변환하여 반환\n",
        "    matched_tomogram_np = sitk.GetArrayFromImage(matched_tomogram_sitk)\n",
        "    return matched_tomogram_np\n",
        "    #시뮬레이션 데이터의 픽셀 값이 실제 데이터의 픽셀 값 분포에 맞게 변형됨.\n",
        "    #따라서 실제 데이터의 특성을 일부 반영한 형태의 데이터 리턴"
      ],
      "metadata": {
        "trusted": true,
        "execution": {
          "iopub.status.busy": "2025-01-27T15:59:21.666948Z",
          "iopub.execute_input": "2025-01-27T15:59:21.667574Z",
          "iopub.status.idle": "2025-01-27T15:59:21.677474Z",
          "shell.execute_reply.started": "2025-01-27T15:59:21.667535Z",
          "shell.execute_reply": "2025-01-27T15:59:21.675997Z"
        },
        "id": "Kq5cX-zfiYSV"
      },
      "outputs": [],
      "execution_count": null
    },
    {
      "cell_type": "code",
      "source": [
        "name_map = {\n",
        "    'apo-ferritin': 'ferritin_complex',\n",
        "    'beta-amylase': 'beta_amylase',\n",
        "    'beta-galactosidase': 'beta_galactosidase',\n",
        "    'ribosome': 'cytosolic_ribosome',\n",
        "    'thyroglobulin': 'thyroglobulin',\n",
        "    'virus-like-particle': 'pp7_vlp',\n",
        "}"
      ],
      "metadata": {
        "_uuid": "4a9fc3a6-0f84-48eb-8c88-ae1d06b1b748",
        "_cell_guid": "0e2411db-b47b-4d5d-916d-086b7401280f",
        "trusted": true,
        "execution": {
          "iopub.status.busy": "2025-01-27T15:59:21.679569Z",
          "iopub.execute_input": "2025-01-27T15:59:21.680220Z",
          "iopub.status.idle": "2025-01-27T15:59:21.698028Z",
          "shell.execute_reply.started": "2025-01-27T15:59:21.680158Z",
          "shell.execute_reply": "2025-01-27T15:59:21.696294Z"
        },
        "jupyter": {
          "outputs_hidden": false
        },
        "id": "QJ3Oof0YiYSW"
      },
      "outputs": [],
      "execution_count": null
    },
    {
      "cell_type": "code",
      "source": [
        "def ndjson_to_json(ndjson_path):\n",
        "    if not os.path.isfile(ndjson_path):\n",
        "        raise FileNotFoundError(f\"The file {ndjson_path} does not exist.\")\n",
        "\n",
        "    data = []\n",
        "    try:\n",
        "        with open(ndjson_path, 'r', encoding='utf-8') as ndjson_file:\n",
        "            for line_number, line in enumerate(ndjson_file, start=1):\n",
        "                stripped_line = line.strip()\n",
        "                if stripped_line:\n",
        "                    try:\n",
        "                        json_object = json.loads(stripped_line)\n",
        "                        data.append(json_object)\n",
        "                    except json.JSONDecodeError as e:\n",
        "                        raise json.JSONDecodeError(\n",
        "                            f\"Error decoding JSON on line {line_number}: {e.msg}\",\n",
        "                            e.doc,\n",
        "                            e.pos\n",
        "                        )\n",
        "    except Exception as e:\n",
        "        raise e\n",
        "\n",
        "    return data\n",
        "    #NDJSON형식의 데이터를 Python에서 사용하기 적합한 JSON객체로 변환하는 함수"
      ],
      "metadata": {
        "_uuid": "87044c15-176e-4509-b032-7339104ee683",
        "_cell_guid": "a309b6eb-f8b4-4f2d-9c5a-e1a28f3f0d34",
        "trusted": true,
        "execution": {
          "iopub.status.busy": "2025-01-27T15:59:21.699765Z",
          "iopub.execute_input": "2025-01-27T15:59:21.700187Z",
          "iopub.status.idle": "2025-01-27T15:59:21.715331Z",
          "shell.execute_reply.started": "2025-01-27T15:59:21.700148Z",
          "shell.execute_reply": "2025-01-27T15:59:21.714325Z"
        },
        "jupyter": {
          "outputs_hidden": false
        },
        "id": "2URLNbSAiYSW"
      },
      "outputs": [],
      "execution_count": null
    },
    {
      "cell_type": "code",
      "source": [
        "import os\n",
        "import glob\n",
        "import json\n",
        "import pandas as pd\n",
        "import numpy as np\n",
        "import zarr\n",
        "import cv2\n",
        "from tqdm import tqdm\n",
        "\n",
        "\n",
        "def make_annotate_yolo(run_name, is_train_path=True, is_syntetic=False):\n",
        "    dataset_split = 'train' if is_train_path else 'val'\n",
        "\n",
        "    # Path to the denoised volume\n",
        "    if is_syntetic:\n",
        "        vol_path = glob.glob(f'/kaggle/input/czii10441/10441/{run_name}/**/Tomograms/**/*.zarr', recursive=True)\n",
        "        if not vol_path:\n",
        "            print(f\"No volume found for run {run_name} in synthetic data.\")\n",
        "            return\n",
        "        vol_path = vol_path[0]\n",
        "    else:\n",
        "        vol_path = f'/kaggle/input/czii-cryo-et-object-identification/train/static/ExperimentRuns/{run_name}/VoxelSpacing10.000/denoised.zarr'\n",
        "    #볼륨 데이터 경로 설정\n",
        "    print(f\"Volume path: {vol_path}\")\n",
        "    if not os.path.exists(vol_path):\n",
        "        print(f\"Volume file not found: {vol_path}\")\n",
        "        return\n",
        "\n",
        "    # Read the volume\n",
        "    vol = zarr.open(vol_path, mode='r')\n",
        "    vol = vol[0]\n",
        "    #참조용 토모그램 볼륨\n",
        "    ref_vol = '/kaggle/input/czii-cryo-et-object-identification/train/static/ExperimentRuns/TS_5_4/VoxelSpacing10.000/denoised.zarr'\n",
        "    ref_vol = zarr.open(ref_vol, mode='r')\n",
        "    ref_vol = ref_vol[0]\n",
        "\n",
        "    if is_syntetic:    #합성 데이터의 경우 가우시안 필터링 적용\n",
        "        vol = denoise_tomogram(np.array(vol)[:184], method='gaussian', sigma=1.5)  # Apply denoise\n",
        "        vol = volume_wise_histogram_matching_3d(vol, ref_vol) #히스토그램 매칭\n",
        "    vol2 = convert_to_8bit(vol)\n",
        "\n",
        "    n_imgs = vol2.shape[0] #첫번째 차원수만큼 슬라이싱할것이다.\n",
        "    print(n_imgs)\n",
        "\n",
        "    for j in range(n_imgs): #3D볼륨 데이터를 2D이미지로 변환하여 저장\n",
        "        newvol = vol2[j]\n",
        "        newvolf = np.stack([newvol]*3, axis=-1)\n",
        "        newvolf = cv2.resize(newvolf, (640, 640)) #리사이즈\n",
        "        image_filename = f'images/{dataset_split}/{run_name}_{j*10}.png'\n",
        "        cv2.imwrite(image_filename, newvolf)\n",
        "        # Create empty label file - 레이블 파일을 위한 빈 파일 생성\n",
        "        label_filename = f'labels/{dataset_split}/{run_name}_{j*10}.txt'\n",
        "        with open(label_filename, 'w') as f:\n",
        "            pass\n",
        "\n",
        "    # Process each particle type\n",
        "    for p, particle in enumerate(tqdm(particle_names, desc=f\"Processing particles for run {run_name}\")):\n",
        "        if particle == \"beta-amylase\":\n",
        "            continue\n",
        "\n",
        "        if is_syntetic: #합성 데이터의 경우 ndjson파일을 찾고 로드하여 위치정보 추출\n",
        "            particle_name_in_file = name_map.get(particle)\n",
        "            if not particle_name_in_file:\n",
        "                print(f\"Particle name mapping not found for: {particle}\")\n",
        "                continue\n",
        "\n",
        "            ndjson_each_particle = glob.glob(f'/kaggle/input/czii10441/10441/{run_name}/**/Annotations/**/*.ndjson', recursive=True)\n",
        "            if not ndjson_each_particle:\n",
        "                print(f\"No NDJSON files found for particle: {particle} in run: {run_name}\")\n",
        "                continue\n",
        "\n",
        "            filtered_ndjson_files = [f for f in ndjson_each_particle if particle_name_in_file in f]\n",
        "            if not filtered_ndjson_files:\n",
        "                print(f\"No NDJSON files match the particle: {particle} for run: {run_name}\")\n",
        "                continue\n",
        "\n",
        "            json_each_particle = ndjson_to_json(filtered_ndjson_files[0])\n",
        "            df = pd.DataFrame(json_each_particle)\n",
        "        else: #실제 데이터일 경우, 단백질 위치 정보를 포함하는 json파일을 로드\n",
        "            json_each_particle = f\"/kaggle/input/czii-cryo-et-object-identification/train/overlay/ExperimentRuns/{run_name}/Picks/{particle}.json\"\n",
        "\n",
        "            if not os.path.exists(json_each_particle):\n",
        "                print(f\"JSON file not found: {json_each_particle}\")\n",
        "                continue\n",
        "            print(f\"Loading JSON file: {json_each_particle}\")\n",
        "            try:\n",
        "                df = pd.read_json(json_each_particle)\n",
        "            except ValueError as e:\n",
        "                print(f\"Error reading JSON file {json_each_particle}: {e}\")\n",
        "                continue\n",
        "        if is_syntetic:\n",
        "            column_name = 'location'\n",
        "        else:\n",
        "            column_name = 'points'\n",
        "\n",
        "        if  column_name not in df.columns:\n",
        "            print(f\"'{column_name}' column not found in DataFrame for particle: {particle}\")\n",
        "            continue\n",
        "\n",
        "        if is_syntetic:\n",
        "            normalized_data = pd.json_normalize(df[column_name])\n",
        "            df[['x', 'y', 'z']] = normalized_data * 10.012 #합성데이터의 경우 좌표를 스케일링하여 정규화\n",
        "\n",
        "        else:\n",
        "            for axis in [\"x\", \"y\", \"z\"]:   #df에서 x,y,z좌표를 추출하여 각 입자에 대한 위치정보 로드#######################################중요\n",
        "\n",
        "                df[axis] = df[column_name].apply(lambda x: x[\"location\"][axis] if \"location\" in x and axis in x[\"location\"] else np.nan)\n",
        "                print(\"aquiii\",df.head())\n",
        "\n",
        "\n",
        "        df.dropna(subset=[\"x\", \"y\", \"z\"], inplace=True)\n",
        "\n",
        "\n",
        "\n",
        "        radius = particle_radius.get(particle)\n",
        "        if radius is None:\n",
        "            print(f\"Radius not defined for particle: {particle}\")\n",
        "            continue\n",
        "        divide_by = 10.012\n",
        "        for i, row in df.iterrows():\n",
        "\n",
        "            start_z = np.round(row['z'] - radius).astype(np.int32)\n",
        "            start_z = max(0, start_z//10)\n",
        "            end_z = np.round(row['z'] + radius).astype(np.int32)\n",
        "            end_z = min(n_imgs, end_z//10)\n",
        "            for j in range(start_z, end_z):\n",
        "\n",
        "\n",
        "                label_filename = f'labels/{dataset_split}/{run_name}_{j*10}.txt'\n",
        "                x_center = row[\"x\"] / divide_by / vol2.shape[1]\n",
        "                y_center = row[\"y\"] / divide_by / vol2.shape[2]\n",
        "                box_width = (radius * 2) / divide_by / vol2.shape[1]\n",
        "                box_height = (radius * 2) / divide_by / vol2.shape[2]\n",
        "                with open(label_filename, 'a') as f:\n",
        "                    f.write(f'{p2i_dict.get(particle, 0)} {x_center:.6f} {y_center:.6f} {box_width:.6f} {box_height:.6f}\\n')\n",
        "\n",
        "      #반지름만큼의 반경을 두고, z좌표를 중심으로 시작과 끝 좌표를 계산\n",
        "      #해당범위 내의 z에 대해 입자들의 좌표를 10.012로 나누어 정규화\n"
      ],
      "metadata": {
        "_uuid": "4858d56f-d154-45b8-8b8e-18b1bc566ba2",
        "_cell_guid": "8f7195d1-60f2-4f19-993f-d11f0439c282",
        "trusted": true,
        "jupyter": {
          "outputs_hidden": false
        },
        "execution": {
          "iopub.status.busy": "2025-01-27T15:59:21.722538Z",
          "iopub.execute_input": "2025-01-27T15:59:21.723434Z",
          "iopub.status.idle": "2025-01-27T15:59:21.751168Z",
          "shell.execute_reply.started": "2025-01-27T15:59:21.723376Z",
          "shell.execute_reply": "2025-01-27T15:59:21.749554Z"
        },
        "id": "bLy88KV5iYSW"
      },
      "outputs": [],
      "execution_count": null
    },
    {
      "cell_type": "markdown",
      "source": [
        "입자가 (x=50, y=60, z=30)에 위치하고, radius=5 일때,\n",
        "해당 입자는z=30을 기준으로 z축 상에서 z=25에서 z=35 사이의 영역을 차지\n",
        "이 영역에 해당하는 2D 이미지들을 슬라이싱하고, 그 이미지 내에서 입자의 중심 (x, y) 좌표와 크기(너비, 높이)를 계산하여 (형식에 맞게) YOLO 레이블 파일로 저장\n",
        "따라서,위의 코드는 입자의 3D 위치 정보와 반지름을 기반으로 2D 이미지상의 해당 범위를 계산하고, 그에 맞는 레이블을 생성하는 과정"
      ],
      "metadata": {
        "id": "_N68rCuIthDw"
      }
    },
    {
      "cell_type": "markdown",
      "source": [
        "# Prepare Folders"
      ],
      "metadata": {
        "_uuid": "653ce678-ab5d-4abf-bc17-6007187deea1",
        "_cell_guid": "fa61e5b4-d751-43f3-8f6e-dfaaebb9eefe",
        "trusted": true,
        "collapsed": false,
        "jupyter": {
          "outputs_hidden": false
        },
        "id": "H_oBIQ0ziYSX"
      }
    },
    {
      "cell_type": "code",
      "source": [
        "os.makedirs(\"images/train\", exist_ok=True)\n",
        "os.makedirs(\"images/val\", exist_ok=True)\n",
        "os.makedirs(\"labels/train\", exist_ok=True)\n",
        "os.makedirs(\"labels/val\", exist_ok=True) #디렉토리 생성"
      ],
      "metadata": {
        "_uuid": "0987649d-3e79-4c24-85bc-df66315886b2",
        "_cell_guid": "709c669d-e88a-4429-a894-66497b52f0df",
        "trusted": true,
        "jupyter": {
          "outputs_hidden": false
        },
        "execution": {
          "iopub.status.busy": "2025-01-27T15:59:21.752528Z",
          "iopub.execute_input": "2025-01-27T15:59:21.753047Z",
          "iopub.status.idle": "2025-01-27T15:59:21.775244Z",
          "shell.execute_reply.started": "2025-01-27T15:59:21.752998Z",
          "shell.execute_reply": "2025-01-27T15:59:21.773814Z"
        },
        "id": "GF4dCmSkiYSX"
      },
      "outputs": [],
      "execution_count": null
    },
    {
      "cell_type": "markdown",
      "source": [
        "# Create Dataset"
      ],
      "metadata": {
        "_uuid": "3dfff00e-14bd-406e-a7b8-8f3bcde4268b",
        "_cell_guid": "aae5b85a-0e04-4024-b6b8-11f2c4be72b2",
        "trusted": true,
        "collapsed": false,
        "jupyter": {
          "outputs_hidden": false
        },
        "id": "GtGcNfE5iYSY"
      }
    },
    {
      "cell_type": "code",
      "source": [
        "validation_indices = [0]  # TS_5_4\n",
        "\n",
        "#runs = runs[:7]\n",
        "\n",
        "for i, r in enumerate(runs):\n",
        "    is_train_path = i not in validation_indices #현재 실험의 인덱스가 훈련or검증데이터 중 어디에 포함되어있는지 구분\n",
        "    is_syntetic = i > 7 #합성데이터인지 구분\n",
        "    print(f\"Processing Run {i}: {r}, Is Train: {is_train_path}\")\n",
        "    make_annotate_yolo(r, is_train_path=is_train_path, is_syntetic=is_syntetic) #yolo레이블 형성"
      ],
      "metadata": {
        "_uuid": "f4059efe-aeb6-46aa-a779-d03a50ce779b",
        "_cell_guid": "f61a4763-4829-4709-9808-b412202923f4",
        "trusted": true,
        "jupyter": {
          "outputs_hidden": false
        },
        "execution": {
          "iopub.status.busy": "2025-01-27T15:59:21.776986Z",
          "iopub.execute_input": "2025-01-27T15:59:21.777365Z",
          "iopub.status.idle": "2025-01-27T16:13:34.525364Z",
          "shell.execute_reply.started": "2025-01-27T15:59:21.777328Z",
          "shell.execute_reply": "2025-01-27T16:13:34.523767Z"
        },
        "id": "noQm0jbhiYSY",
        "outputId": "fc41c2a1-e856-4af2-ce5c-cea4ee18a50e"
      },
      "outputs": [
        {
          "name": "stdout",
          "text": "Processing Run 0: TS_5_4, Is Train: False\nVolume path: /kaggle/input/czii-cryo-et-object-identification/train/static/ExperimentRuns/TS_5_4/VoxelSpacing10.000/denoised.zarr\n184\n",
          "output_type": "stream"
        },
        {
          "name": "stderr",
          "text": "Processing particles for run TS_5_4:  17%|█▋        | 1/6 [00:00<00:00,  8.62it/s]",
          "output_type": "stream"
        },
        {
          "name": "stdout",
          "text": "Loading JSON file: /kaggle/input/czii-cryo-et-object-identification/train/overlay/ExperimentRuns/TS_5_4/Picks/apo-ferritin.json\naquiii   pickable_object_name   user_id  session_id run_name  voxel_spacing  \\\n0         apo-ferritin  curation           0   TS_5_4            NaN   \n1         apo-ferritin  curation           0   TS_5_4            NaN   \n2         apo-ferritin  curation           0   TS_5_4            NaN   \n3         apo-ferritin  curation           0   TS_5_4            NaN   \n4         apo-ferritin  curation           0   TS_5_4            NaN   \n\n       unit                                             points  \\\n0  angstrom  {'location': {'x': 468.514, 'y': 5915.906, 'z'...   \n1  angstrom  {'location': {'x': 5674.694, 'y': 1114.354, 'z...   \n2  angstrom  {'location': {'x': 5744.509, 'y': 1049.172, 'z...   \n3  angstrom  {'location': {'x': 5880.769, 'y': 1125.348, 'z...   \n4  angstrom  {'location': {'x': 4661.667, 'y': 1269.497, 'z...   \n\n   trust_orientation         x  \n0               True   468.514  \n1               True  5674.694  \n2               True  5744.509  \n3               True  5880.769  \n4               True  4661.667  \naquiii   pickable_object_name   user_id  session_id run_name  voxel_spacing  \\\n0         apo-ferritin  curation           0   TS_5_4            NaN   \n1         apo-ferritin  curation           0   TS_5_4            NaN   \n2         apo-ferritin  curation           0   TS_5_4            NaN   \n3         apo-ferritin  curation           0   TS_5_4            NaN   \n4         apo-ferritin  curation           0   TS_5_4            NaN   \n\n       unit                                             points  \\\n0  angstrom  {'location': {'x': 468.514, 'y': 5915.906, 'z'...   \n1  angstrom  {'location': {'x': 5674.694, 'y': 1114.354, 'z...   \n2  angstrom  {'location': {'x': 5744.509, 'y': 1049.172, 'z...   \n3  angstrom  {'location': {'x': 5880.769, 'y': 1125.348, 'z...   \n4  angstrom  {'location': {'x': 4661.667, 'y': 1269.497, 'z...   \n\n   trust_orientation         x         y  \n0               True   468.514  5915.906  \n1               True  5674.694  1114.354  \n2               True  5744.509  1049.172  \n3               True  5880.769  1125.348  \n4               True  4661.667  1269.497  \naquiii   pickable_object_name   user_id  session_id run_name  voxel_spacing  \\\n0         apo-ferritin  curation           0   TS_5_4            NaN   \n1         apo-ferritin  curation           0   TS_5_4            NaN   \n2         apo-ferritin  curation           0   TS_5_4            NaN   \n3         apo-ferritin  curation           0   TS_5_4            NaN   \n4         apo-ferritin  curation           0   TS_5_4            NaN   \n\n       unit                                             points  \\\n0  angstrom  {'location': {'x': 468.514, 'y': 5915.906, 'z'...   \n1  angstrom  {'location': {'x': 5674.694, 'y': 1114.354, 'z...   \n2  angstrom  {'location': {'x': 5744.509, 'y': 1049.172, 'z...   \n3  angstrom  {'location': {'x': 5880.769, 'y': 1125.348, 'z...   \n4  angstrom  {'location': {'x': 4661.667, 'y': 1269.497, 'z...   \n\n   trust_orientation         x         y        z  \n0               True   468.514  5915.906  604.167  \n1               True  5674.694  1114.354  565.068  \n2               True  5744.509  1049.172  653.712  \n3               True  5880.769  1125.348  579.560  \n4               True  4661.667  1269.497  810.409  \nLoading JSON file: /kaggle/input/czii-cryo-et-object-identification/train/overlay/ExperimentRuns/TS_5_4/Picks/beta-galactosidase.json\naquiii   pickable_object_name   user_id  session_id run_name  voxel_spacing  \\\n0   beta-galactosidase  curation           0   TS_5_4            NaN   \n1   beta-galactosidase  curation           0   TS_5_4            NaN   \n2   beta-galactosidase  curation           0   TS_5_4            NaN   \n3   beta-galactosidase  curation           0   TS_5_4            NaN   \n4   beta-galactosidase  curation           0   TS_5_4            NaN   \n\n       unit                                             points  \\\n0  angstrom  {'location': {'x': 1959.181, 'y': 701.502, 'z'...   \n1  angstrom  {'location': {'x': 2135.713, 'y': 4459.195, 'z...   \n2  angstrom  {'location': {'x': 3449.782, 'y': 5052.93, 'z'...   \n3  angstrom  {'location': {'x': 4623.597, 'y': 3652.095, 'z...   \n4  angstrom  {'location': {'x': 1390.238, 'y': 4121.667, 'z...   \n\n   trust_orientation         x  \n0               True  1959.181  \n1               True  2135.713  \n2               True  3449.782  \n3               True  4623.597  \n4               True  1390.238  \naquiii   pickable_object_name   user_id  session_id run_name  voxel_spacing  \\\n0   beta-galactosidase  curation           0   TS_5_4            NaN   \n1   beta-galactosidase  curation           0   TS_5_4            NaN   \n2   beta-galactosidase  curation           0   TS_5_4            NaN   \n3   beta-galactosidase  curation           0   TS_5_4            NaN   \n4   beta-galactosidase  curation           0   TS_5_4            NaN   \n\n       unit                                             points  \\\n0  angstrom  {'location': {'x': 1959.181, 'y': 701.502, 'z'...   \n1  angstrom  {'location': {'x': 2135.713, 'y': 4459.195, 'z...   \n2  angstrom  {'location': {'x': 3449.782, 'y': 5052.93, 'z'...   \n3  angstrom  {'location': {'x': 4623.597, 'y': 3652.095, 'z...   \n4  angstrom  {'location': {'x': 1390.238, 'y': 4121.667, 'z...   \n\n   trust_orientation         x         y  \n0               True  1959.181   701.502  \n1               True  2135.713  4459.195  \n2               True  3449.782  5052.930  \n3               True  4623.597  3652.095  \n4               True  1390.238  4121.667  \naquiii   pickable_object_name   user_id  session_id run_name  voxel_spacing  \\\n0   beta-galactosidase  curation           0   TS_5_4            NaN   \n1   beta-galactosidase  curation           0   TS_5_4            NaN   \n2   beta-galactosidase  curation           0   TS_5_4            NaN   \n3   beta-galactosidase  curation           0   TS_5_4            NaN   \n4   beta-galactosidase  curation           0   TS_5_4            NaN   \n\n       unit                                             points  \\\n0  angstrom  {'location': {'x': 1959.181, 'y': 701.502, 'z'...   \n1  angstrom  {'location': {'x': 2135.713, 'y': 4459.195, 'z...   \n2  angstrom  {'location': {'x': 3449.782, 'y': 5052.93, 'z'...   \n3  angstrom  {'location': {'x': 4623.597, 'y': 3652.095, 'z...   \n4  angstrom  {'location': {'x': 1390.238, 'y': 4121.667, 'z...   \n\n   trust_orientation         x         y         z  \n0               True  1959.181   701.502   371.229  \n1               True  2135.713  4459.195   936.655  \n2               True  3449.782  5052.930   511.041  \n3               True  4623.597  3652.095  1161.660  \n4               True  1390.238  4121.667   570.595  \nLoading JSON file: /kaggle/input/czii-cryo-et-object-identification/train/overlay/ExperimentRuns/TS_5_4/Picks/ribosome.json\naquiii   pickable_object_name   user_id  session_id run_name  voxel_spacing  \\\n0             ribosome  curation           0   TS_5_4            NaN   \n1             ribosome  curation           0   TS_5_4            NaN   \n2             ribosome  curation           0   TS_5_4            NaN   \n3             ribosome  curation           0   TS_5_4            NaN   \n4             ribosome  curation           0   TS_5_4            NaN   \n\n       unit                                             points  \\\n0  angstrom  {'location': {'x': 4601.271, 'y': 601.066, 'z'...   \n1  angstrom  {'location': {'x': 4803.789, 'y': 455.425, 'z'...   \n2  angstrom  {'location': {'x': 4715.436, 'y': 825.374, 'z'...   \n3  angstrom  {'location': {'x': 5003.275, 'y': 782.745, 'z'...   \n4  angstrom  {'location': {'x': 710.459, 'y': 3815.845, 'z'...   \n\n   trust_orientation         x  \n0               True  4601.271  \n1               True  4803.789  \n2               True  4715.436  \n3               True  5003.275  \n4               True   710.459  \naquiii   pickable_object_name   user_id  session_id run_name  voxel_spacing  \\\n0             ribosome  curation           0   TS_5_4            NaN   \n1             ribosome  curation           0   TS_5_4            NaN   \n2             ribosome  curation           0   TS_5_4            NaN   \n3             ribosome  curation           0   TS_5_4            NaN   \n4             ribosome  curation           0   TS_5_4            NaN   \n\n       unit                                             points  \\\n0  angstrom  {'location': {'x': 4601.271, 'y': 601.066, 'z'...   \n1  angstrom  {'location': {'x': 4803.789, 'y': 455.425, 'z'...   \n2  angstrom  {'location': {'x': 4715.436, 'y': 825.374, 'z'...   \n3  angstrom  {'location': {'x': 5003.275, 'y': 782.745, 'z'...   \n4  angstrom  {'location': {'x': 710.459, 'y': 3815.845, 'z'...   \n\n   trust_orientation         x         y  \n0               True  4601.271   601.066  \n1               True  4803.789   455.425  \n2               True  4715.436   825.374  \n3               True  5003.275   782.745  \n4               True   710.459  3815.845  \naquiii ",
          "output_type": "stream"
        },
        {
          "name": "stderr",
          "text": "Processing particles for run TS_5_4: 100%|██████████| 6/6 [00:00<00:00, 14.85it/s]",
          "output_type": "stream"
        },
        {
          "name": "stdout",
          "text": "  pickable_object_name   user_id  session_id run_name  voxel_spacing  \\\n0             ribosome  curation           0   TS_5_4            NaN   \n1             ribosome  curation           0   TS_5_4            NaN   \n2             ribosome  curation           0   TS_5_4            NaN   \n3             ribosome  curation           0   TS_5_4            NaN   \n4             ribosome  curation           0   TS_5_4            NaN   \n\n       unit                                             points  \\\n0  angstrom  {'location': {'x': 4601.271, 'y': 601.066, 'z'...   \n1  angstrom  {'location': {'x': 4803.789, 'y': 455.425, 'z'...   \n2  angstrom  {'location': {'x': 4715.436, 'y': 825.374, 'z'...   \n3  angstrom  {'location': {'x': 5003.275, 'y': 782.745, 'z'...   \n4  angstrom  {'location': {'x': 710.459, 'y': 3815.845, 'z'...   \n\n   trust_orientation         x         y         z  \n0               True  4601.271   601.066   600.934  \n1               True  4803.789   455.425   514.016  \n2               True  4715.436   825.374   802.166  \n3               True  5003.275   782.745   802.480  \n4               True   710.459  3815.845  1405.435  \nLoading JSON file: /kaggle/input/czii-cryo-et-object-identification/train/overlay/ExperimentRuns/TS_5_4/Picks/thyroglobulin.json\naquiii   pickable_object_name   user_id  session_id run_name  voxel_spacing  \\\n0        thyroglobulin  curation           0   TS_5_4            NaN   \n1        thyroglobulin  curation           0   TS_5_4            NaN   \n2        thyroglobulin  curation           0   TS_5_4            NaN   \n3        thyroglobulin  curation           0   TS_5_4            NaN   \n4        thyroglobulin  curation           0   TS_5_4            NaN   \n\n       unit                                             points  \\\n0  angstrom  {'location': {'x': 4527.706, 'y': 221.468, 'z'...   \n1  angstrom  {'location': {'x': 5458.275, 'y': 3743.418, 'z...   \n2  angstrom  {'location': {'x': 5086.266, 'y': 5378.977, 'z...   \n3  angstrom  {'location': {'x': 2091.242, 'y': 489.208, 'z'...   \n4  angstrom  {'location': {'x': 4338.644, 'y': 1822.464, 'z...   \n\n   trust_orientation         x  \n0               True  4527.706  \n1               True  5458.275  \n2               True  5086.266  \n3               True  2091.242  \n4               True  4338.644  \naquiii   pickable_object_name   user_id  session_id run_name  voxel_spacing  \\\n0        thyroglobulin  curation           0   TS_5_4            NaN   \n1        thyroglobulin  curation           0   TS_5_4            NaN   \n2        thyroglobulin  curation           0   TS_5_4            NaN   \n3        thyroglobulin  curation           0   TS_5_4            NaN   \n4        thyroglobulin  curation           0   TS_5_4            NaN   \n\n       unit                                             points  \\\n0  angstrom  {'location': {'x': 4527.706, 'y': 221.468, 'z'...   \n1  angstrom  {'location': {'x': 5458.275, 'y': 3743.418, 'z...   \n2  angstrom  {'location': {'x': 5086.266, 'y': 5378.977, 'z...   \n3  angstrom  {'location': {'x': 2091.242, 'y': 489.208, 'z'...   \n4  angstrom  {'location': {'x': 4338.644, 'y': 1822.464, 'z...   \n\n   trust_orientation         x         y  \n0               True  4527.706   221.468  \n1               True  5458.275  3743.418  \n2               True  5086.266  5378.977  \n3               True  2091.242   489.208  \n4               True  4338.644  1822.464  \naquiii   pickable_object_name   user_id  session_id run_name  voxel_spacing  \\\n0        thyroglobulin  curation           0   TS_5_4            NaN   \n1        thyroglobulin  curation           0   TS_5_4            NaN   \n2        thyroglobulin  curation           0   TS_5_4            NaN   \n3        thyroglobulin  curation           0   TS_5_4            NaN   \n4        thyroglobulin  curation           0   TS_5_4            NaN   \n\n       unit                                             points  \\\n0  angstrom  {'location': {'x': 4527.706, 'y': 221.468, 'z'...   \n1  angstrom  {'location': {'x': 5458.275, 'y': 3743.418, 'z...   \n2  angstrom  {'location': {'x': 5086.266, 'y': 5378.977, 'z...   \n3  angstrom  {'location': {'x': 2091.242, 'y': 489.208, 'z'...   \n4  angstrom  {'location': {'x': 4338.644, 'y': 1822.464, 'z...   \n\n   trust_orientation         x         y        z  \n0               True  4527.706   221.468  279.908  \n1               True  5458.275  3743.418  332.075  \n2               True  5086.266  5378.977  411.051  \n3               True  2091.242   489.208  433.742  \n4               True  4338.644  1822.464  455.595  \nLoading JSON file: /kaggle/input/czii-cryo-et-object-identification/train/overlay/ExperimentRuns/TS_5_4/Picks/virus-like-particle.json\naquiii   pickable_object_name   user_id  session_id run_name  voxel_spacing  \\\n0  virus-like-particle  curation           0   TS_5_4            NaN   \n1  virus-like-particle  curation           0   TS_5_4            NaN   \n2  virus-like-particle  curation           0   TS_5_4            NaN   \n3  virus-like-particle  curation           0   TS_5_4            NaN   \n4  virus-like-particle  curation           0   TS_5_4            NaN   \n\n       unit                                             points  \\\n0  angstrom  {'location': {'x': 626.933, 'y': 1151.091, 'z'...   \n1  angstrom  {'location': {'x': 1480.552, 'y': 1278.98, 'z'...   \n2  angstrom  {'location': {'x': 1251.324, 'y': 5451.893, 'z...   \n3  angstrom  {'location': {'x': 117.204, 'y': 5393.268, 'z'...   \n4  angstrom  {'location': {'x': 672.259, 'y': 3039.65, 'z':...   \n\n   trust_orientation         x  \n0               True   626.933  \n1               True  1480.552  \n2               True  1251.324  \n3               True   117.204  \n4               True   672.259  \naquiii   pickable_object_name   user_id  session_id run_name  voxel_spacing  \\\n0  virus-like-particle  curation           0   TS_5_4            NaN   \n1  virus-like-particle  curation           0   TS_5_4            NaN   \n2  virus-like-particle  curation           0   TS_5_4            NaN   \n3  virus-like-particle  curation           0   TS_5_4            NaN   \n4  virus-like-particle  curation           0   TS_5_4            NaN   \n\n       unit                                             points  \\\n0  angstrom  {'location': {'x': 626.933, 'y': 1151.091, 'z'...   \n1  angstrom  {'location': {'x': 1480.552, 'y': 1278.98, 'z'...   \n2  angstrom  {'location': {'x': 1251.324, 'y': 5451.893, 'z...   \n3  angstrom  {'location': {'x': 117.204, 'y': 5393.268, 'z'...   \n4  angstrom  {'location': {'x': 672.259, 'y': 3039.65, 'z':...   \n\n   trust_orientation         x         y  \n0               True   626.933  1151.091  \n1               True  1480.552  1278.980  \n2               True  1251.324  5451.893  \n3               True   117.204  5393.268  \n4               True   672.259  3039.650  \naquiii   pickable_object_name   user_id  session_id run_name  voxel_spacing  \\\n0  virus-like-particle  curation           0   TS_5_4            NaN   \n1  virus-like-particle  curation           0   TS_5_4            NaN   \n2  virus-like-particle  curation           0   TS_5_4            NaN   \n3  virus-like-particle  curation           0   TS_5_4            NaN   \n4  virus-like-particle  curation           0   TS_5_4            NaN   \n\n       unit                                             points  \\\n0  angstrom  {'location': {'x': 626.933, 'y': 1151.091, 'z'...   \n1  angstrom  {'location': {'x': 1480.552, 'y': 1278.98, 'z'...   \n2  angstrom  {'location': {'x': 1251.324, 'y': 5451.893, 'z...   \n3  angstrom  {'location': {'x': 117.204, 'y': 5393.268, 'z'...   \n4  angstrom  {'location': {'x': 672.259, 'y': 3039.65, 'z':...   \n\n   trust_orientation         x         y        z  \n0               True   626.933  1151.091  637.139  \n1               True  1480.552  1278.980  820.227  \n2               True  1251.324  5451.893  735.631  \n3               True   117.204  5393.268  923.733  \n4               True   672.259  3039.650  711.322  \nProcessing Run 1: TS_69_2, Is Train: True\nVolume path: /kaggle/input/czii-cryo-et-object-identification/train/static/ExperimentRuns/TS_69_2/VoxelSpacing10.000/denoised.zarr\n",
          "output_type": "stream"
        },
        {
          "name": "stderr",
          "text": "\n",
          "output_type": "stream"
        },
        {
          "name": "stdout",
          "text": "184\n",
          "output_type": "stream"
        },
        {
          "name": "stderr",
          "text": "Processing particles for run TS_69_2:  50%|█████     | 3/6 [00:00<00:00, 25.59it/s]",
          "output_type": "stream"
        },
        {
          "name": "stdout",
          "text": "Loading JSON file: /kaggle/input/czii-cryo-et-object-identification/train/overlay/ExperimentRuns/TS_69_2/Picks/apo-ferritin.json\naquiii   pickable_object_name   user_id  session_id run_name  voxel_spacing  \\\n0         apo-ferritin  curation           0  TS_69_2            NaN   \n1         apo-ferritin  curation           0  TS_69_2            NaN   \n2         apo-ferritin  curation           0  TS_69_2            NaN   \n3         apo-ferritin  curation           0  TS_69_2            NaN   \n4         apo-ferritin  curation           0  TS_69_2            NaN   \n\n       unit                                             points  \\\n0  angstrom  {'location': {'x': 770.625, 'y': 1111.161, 'z'...   \n1  angstrom  {'location': {'x': 828.291, 'y': 1201.673, 'z'...   \n2  angstrom  {'location': {'x': 668.986, 'y': 1041.449, 'z'...   \n3  angstrom  {'location': {'x': 834.049, 'y': 592.958, 'z':...   \n4  angstrom  {'location': {'x': 81.893, 'y': 2152.929, 'z':...   \n\n   trust_orientation        x  \n0               True  770.625  \n1               True  828.291  \n2               True  668.986  \n3               True  834.049  \n4               True   81.893  \naquiii   pickable_object_name   user_id  session_id run_name  voxel_spacing  \\\n0         apo-ferritin  curation           0  TS_69_2            NaN   \n1         apo-ferritin  curation           0  TS_69_2            NaN   \n2         apo-ferritin  curation           0  TS_69_2            NaN   \n3         apo-ferritin  curation           0  TS_69_2            NaN   \n4         apo-ferritin  curation           0  TS_69_2            NaN   \n\n       unit                                             points  \\\n0  angstrom  {'location': {'x': 770.625, 'y': 1111.161, 'z'...   \n1  angstrom  {'location': {'x': 828.291, 'y': 1201.673, 'z'...   \n2  angstrom  {'location': {'x': 668.986, 'y': 1041.449, 'z'...   \n3  angstrom  {'location': {'x': 834.049, 'y': 592.958, 'z':...   \n4  angstrom  {'location': {'x': 81.893, 'y': 2152.929, 'z':...   \n\n   trust_orientation        x         y  \n0               True  770.625  1111.161  \n1               True  828.291  1201.673  \n2               True  668.986  1041.449  \n3               True  834.049   592.958  \n4               True   81.893  2152.929  \naquiii   pickable_object_name   user_id  session_id run_name  voxel_spacing  \\\n0         apo-ferritin  curation           0  TS_69_2            NaN   \n1         apo-ferritin  curation           0  TS_69_2            NaN   \n2         apo-ferritin  curation           0  TS_69_2            NaN   \n3         apo-ferritin  curation           0  TS_69_2            NaN   \n4         apo-ferritin  curation           0  TS_69_2            NaN   \n\n       unit                                             points  \\\n0  angstrom  {'location': {'x': 770.625, 'y': 1111.161, 'z'...   \n1  angstrom  {'location': {'x': 828.291, 'y': 1201.673, 'z'...   \n2  angstrom  {'location': {'x': 668.986, 'y': 1041.449, 'z'...   \n3  angstrom  {'location': {'x': 834.049, 'y': 592.958, 'z':...   \n4  angstrom  {'location': {'x': 81.893, 'y': 2152.929, 'z':...   \n\n   trust_orientation        x         y         z  \n0               True  770.625  1111.161  1088.795  \n1               True  828.291  1201.673  1153.745  \n2               True  668.986  1041.449  1102.246  \n3               True  834.049   592.958   698.099  \n4               True   81.893  2152.929   543.179  \nLoading JSON file: /kaggle/input/czii-cryo-et-object-identification/train/overlay/ExperimentRuns/TS_69_2/Picks/beta-galactosidase.json\naquiii   pickable_object_name   user_id  session_id run_name  voxel_spacing  \\\n0   beta-galactosidase  curation           0  TS_69_2            NaN   \n1   beta-galactosidase  curation           0  TS_69_2            NaN   \n2   beta-galactosidase  curation           0  TS_69_2            NaN   \n3   beta-galactosidase  curation           0  TS_69_2            NaN   \n4   beta-galactosidase  curation           0  TS_69_2            NaN   \n\n       unit                                             points  \\\n0  angstrom  {'location': {'x': 3124.091, 'y': 2349.758, 'z...   \n1  angstrom  {'location': {'x': 3104.737, 'y': 116.316, 'z'...   \n2  angstrom  {'location': {'x': 1482.15, 'y': 1976.86, 'z':...   \n3  angstrom  {'location': {'x': 4736.857, 'y': 1633.5, 'z':...   \n4  angstrom  {'location': {'x': 5440.842, 'y': 2153.316, 'z...   \n\n   trust_orientation         x  \n0               True  3124.091  \n1               True  3104.737  \n2               True  1482.150  \n3               True  4736.857  \n4               True  5440.842  \naquiii   pickable_object_name   user_id  session_id run_name  voxel_spacing  \\\n0   beta-galactosidase  curation           0  TS_69_2            NaN   \n1   beta-galactosidase  curation           0  TS_69_2            NaN   \n2   beta-galactosidase  curation           0  TS_69_2            NaN   \n3   beta-galactosidase  curation           0  TS_69_2            NaN   \n4   beta-galactosidase  curation           0  TS_69_2            NaN   \n\n       unit                                             points  \\\n0  angstrom  {'location': {'x': 3124.091, 'y': 2349.758, 'z...   \n1  angstrom  {'location': {'x': 3104.737, 'y': 116.316, 'z'...   \n2  angstrom  {'location': {'x': 1482.15, 'y': 1976.86, 'z':...   \n3  angstrom  {'location': {'x': 4736.857, 'y': 1633.5, 'z':...   \n4  angstrom  {'location': {'x': 5440.842, 'y': 2153.316, 'z...   \n\n   trust_orientation         x         y  \n0               True  3124.091  2349.758  \n1               True  3104.737   116.316  \n2               True  1482.150  1976.860  \n3               True  4736.857  1633.500  \n4               True  5440.842  2153.316  \naquiii   pickable_object_name   user_id  session_id run_name  voxel_spacing  \\\n0   beta-galactosidase  curation           0  TS_69_2            NaN   \n1   beta-galactosidase  curation           0  TS_69_2            NaN   \n2   beta-galactosidase  curation           0  TS_69_2            NaN   \n3   beta-galactosidase  curation           0  TS_69_2            NaN   \n4   beta-galactosidase  curation           0  TS_69_2            NaN   \n\n       unit                                             points  \\\n0  angstrom  {'location': {'x': 3124.091, 'y': 2349.758, 'z...   \n1  angstrom  {'location': {'x': 3104.737, 'y': 116.316, 'z'...   \n2  angstrom  {'location': {'x': 1482.15, 'y': 1976.86, 'z':...   \n3  angstrom  {'location': {'x': 4736.857, 'y': 1633.5, 'z':...   \n4  angstrom  {'location': {'x': 5440.842, 'y': 2153.316, 'z...   \n\n   trust_orientation         x         y         z  \n0               True  3124.091  2349.758   914.818  \n1               True  3104.737   116.316   893.158  \n2               True  1482.150  1976.860   809.963  \n3               True  4736.857  1633.500  1281.857  \n4               True  5440.842  2153.316  1065.263  \nLoading JSON file: /kaggle/input/czii-cryo-et-object-identification/train/overlay/ExperimentRuns/TS_69_2/Picks/ribosome.json\naquiii   pickable_object_name   user_id  session_id run_name  voxel_spacing  \\\n0             ribosome  curation           0  TS_69_2            NaN   \n1             ribosome  curation           0  TS_69_2            NaN   \n2             ribosome  curation           0  TS_69_2            NaN   \n3             ribosome  curation           0  TS_69_2            NaN   \n4             ribosome  curation           0  TS_69_2            NaN   \n\n       unit                                             points  \\\n0  angstrom  {'location': {'x': 6006.82, 'y': 5328.856, 'z'...   \n1  angstrom  {'location': {'x': 5957.767, 'y': 5571.663, 'z...   \n2  angstrom  {'location': {'x': 5618.836, 'y': 6161.76, 'z'...   \n3  angstrom  {'location': {'x': 1127.794, 'y': 187.938, 'z'...   \n4  angstrom  {'location': {'x': 1767.82, 'y': 3213.929, 'z'...   \n\n   trust_orientation         x  \n0               True  6006.820  \n1               True  5957.767  \n2               True  5618.836  \n3               True  1127.794  \n4               True  1767.820  \naquiii   pickable_object_name   user_id  session_id run_name  voxel_spacing  \\\n0             ribosome  curation           0  TS_69_2            NaN   \n1             ribosome  curation           0  TS_69_2            NaN   \n2             ribosome  curation           0  TS_69_2            NaN   \n3             ribosome  curation           0  TS_69_2            NaN   \n4             ribosome  curation           0  TS_69_2            NaN   \n\n       unit                                             points  \\\n0  angstrom  {'location': {'x': 6006.82, 'y': 5328.856, 'z'...   \n1  angstrom  {'location': {'x': 5957.767, 'y': 5571.663, 'z...   \n2  angstrom  {'location': {'x': 5618.836, 'y': 6161.76, 'z'...   \n3  angstrom  {'location': {'x': 1127.794, 'y': 187.938, 'z'...   \n4  angstrom  {'location': {'x': 1767.82, 'y': 3213.929, 'z'...   \n\n   trust_orientation         x         y  \n0               True  6006.820  5328.856  \n1               True  5957.767  5571.663  \n2               True  5618.836  6161.760  \n3               True  1127.794   187.938  \n4               True  1767.820  3213.929  \naquiii   pickable_object_name   user_id  session_id run_name  voxel_spacing  \\\n0             ribosome  curation           0  TS_69_2            NaN   \n1             ribosome  curation           0  TS_69_2            NaN   \n2             ribosome  curation           0  TS_69_2            NaN   \n3             ribosome  curation           0  TS_69_2            NaN   \n4             ribosome  curation           0  TS_69_2            NaN   \n\n       unit                                             points  \\\n0  angstrom  {'location': {'x': 6006.82, 'y': 5328.856, 'z'...   \n1  angstrom  {'location': {'x': 5957.767, 'y': 5571.663, 'z...   \n2  angstrom  {'location': {'x': 5618.836, 'y': 6161.76, 'z'...   \n3  angstrom  {'location': {'x': 1127.794, 'y': 187.938, 'z'...   \n4  angstrom  {'location': {'x': 1767.82, 'y': 3213.929, 'z'...   \n\n   trust_orientation         x         y         z  \n0               True  6006.820  5328.856   808.633  \n1               True  5957.767  5571.663   706.068  \n2               True  5618.836  6161.760   693.695  \n3               True  1127.794   187.938   537.361  \n4               True  1767.820  3213.929  1001.620  \n",
          "output_type": "stream"
        },
        {
          "name": "stderr",
          "text": "Processing particles for run TS_69_2: 100%|██████████| 6/6 [00:00<00:00, 16.95it/s]",
          "output_type": "stream"
        },
        {
          "name": "stdout",
          "text": "Loading JSON file: /kaggle/input/czii-cryo-et-object-identification/train/overlay/ExperimentRuns/TS_69_2/Picks/thyroglobulin.json\naquiii   pickable_object_name   user_id  session_id run_name  voxel_spacing  \\\n0        thyroglobulin  curation           0  TS_69_2            NaN   \n1        thyroglobulin  curation           0  TS_69_2            NaN   \n2        thyroglobulin  curation           0  TS_69_2            NaN   \n3        thyroglobulin  curation           0  TS_69_2            NaN   \n4        thyroglobulin  curation           0  TS_69_2            NaN   \n\n       unit                                             points  \\\n0  angstrom  {'location': {'x': 1697.664, 'y': 2484.89, 'z'...   \n1  angstrom  {'location': {'x': 1083.746, 'y': 4336.916, 'z...   \n2  angstrom  {'location': {'x': 2535.083, 'y': 3739.817, 'z...   \n3  angstrom  {'location': {'x': 719.11, 'y': 2318.413, 'z':...   \n4  angstrom  {'location': {'x': 270.918, 'y': 4900.032, 'z'...   \n\n   trust_orientation         x  \n0               True  1697.664  \n1               True  1083.746  \n2               True  2535.083  \n3               True   719.110  \n4               True   270.918  \naquiii   pickable_object_name   user_id  session_id run_name  voxel_spacing  \\\n0        thyroglobulin  curation           0  TS_69_2            NaN   \n1        thyroglobulin  curation           0  TS_69_2            NaN   \n2        thyroglobulin  curation           0  TS_69_2            NaN   \n3        thyroglobulin  curation           0  TS_69_2            NaN   \n4        thyroglobulin  curation           0  TS_69_2            NaN   \n\n       unit                                             points  \\\n0  angstrom  {'location': {'x': 1697.664, 'y': 2484.89, 'z'...   \n1  angstrom  {'location': {'x': 1083.746, 'y': 4336.916, 'z...   \n2  angstrom  {'location': {'x': 2535.083, 'y': 3739.817, 'z...   \n3  angstrom  {'location': {'x': 719.11, 'y': 2318.413, 'z':...   \n4  angstrom  {'location': {'x': 270.918, 'y': 4900.032, 'z'...   \n\n   trust_orientation         x         y  \n0               True  1697.664  2484.890  \n1               True  1083.746  4336.916  \n2               True  2535.083  3739.817  \n3               True   719.110  2318.413  \n4               True   270.918  4900.032  \naquiii   pickable_object_name   user_id  session_id run_name  voxel_spacing  \\\n0        thyroglobulin  curation           0  TS_69_2            NaN   \n1        thyroglobulin  curation           0  TS_69_2            NaN   \n2        thyroglobulin  curation           0  TS_69_2            NaN   \n3        thyroglobulin  curation           0  TS_69_2            NaN   \n4        thyroglobulin  curation           0  TS_69_2            NaN   \n\n       unit                                             points  \\\n0  angstrom  {'location': {'x': 1697.664, 'y': 2484.89, 'z'...   \n1  angstrom  {'location': {'x': 1083.746, 'y': 4336.916, 'z...   \n2  angstrom  {'location': {'x': 2535.083, 'y': 3739.817, 'z...   \n3  angstrom  {'location': {'x': 719.11, 'y': 2318.413, 'z':...   \n4  angstrom  {'location': {'x': 270.918, 'y': 4900.032, 'z'...   \n\n   trust_orientation         x         y        z  \n0               True  1697.664  2484.890  553.359  \n1               True  1083.746  4336.916  660.712  \n2               True  2535.083  3739.817  626.862  \n3               True   719.110  2318.413  647.963  \n4               True   270.918  4900.032  677.824  \nLoading JSON file: /kaggle/input/czii-cryo-et-object-identification/train/overlay/ExperimentRuns/TS_69_2/Picks/virus-like-particle.json\naquiii   pickable_object_name   user_id  session_id run_name  voxel_spacing  \\\n0  virus-like-particle  curation           0  TS_69_2            NaN   \n1  virus-like-particle  curation           0  TS_69_2            NaN   \n2  virus-like-particle  curation           0  TS_69_2            NaN   \n3  virus-like-particle  curation           0  TS_69_2            NaN   \n4  virus-like-particle  curation           0  TS_69_2            NaN   \n\n       unit                                             points  \\\n0  angstrom  {'location': {'x': 235.918, 'y': 2967.62, 'z':...   \n1  angstrom  {'location': {'x': 516.962, 'y': 4021.185, 'z'...   \n2  angstrom  {'location': {'x': 2832.249, 'y': 750.827, 'z'...   \n3  angstrom  {'location': {'x': 2587.613, 'y': 1360.659, 'z...   \n4  angstrom  {'location': {'x': 5063.363, 'y': 1732.215, 'z...   \n\n   trust_orientation         x  \n0               True   235.918  \n1               True   516.962  \n2               True  2832.249  \n3               True  2587.613  \n4               True  5063.363  \naquiii   pickable_object_name   user_id  session_id run_name  voxel_spacing  \\\n0  virus-like-particle  curation           0  TS_69_2            NaN   \n1  virus-like-particle  curation           0  TS_69_2            NaN   \n2  virus-like-particle  curation           0  TS_69_2            NaN   \n3  virus-like-particle  curation           0  TS_69_2            NaN   \n4  virus-like-particle  curation           0  TS_69_2            NaN   \n\n       unit                                             points  \\\n0  angstrom  {'location': {'x': 235.918, 'y': 2967.62, 'z':...   \n1  angstrom  {'location': {'x': 516.962, 'y': 4021.185, 'z'...   \n2  angstrom  {'location': {'x': 2832.249, 'y': 750.827, 'z'...   \n3  angstrom  {'location': {'x': 2587.613, 'y': 1360.659, 'z...   \n4  angstrom  {'location': {'x': 5063.363, 'y': 1732.215, 'z...   \n\n   trust_orientation         x         y  \n0               True   235.918  2967.620  \n1               True   516.962  4021.185  \n2               True  2832.249   750.827  \n3               True  2587.613  1360.659  \n4               True  5063.363  1732.215  \naquiii   pickable_object_name   user_id  session_id run_name  voxel_spacing  \\\n0  virus-like-particle  curation           0  TS_69_2            NaN   \n1  virus-like-particle  curation           0  TS_69_2            NaN   \n2  virus-like-particle  curation           0  TS_69_2            NaN   \n3  virus-like-particle  curation           0  TS_69_2            NaN   \n4  virus-like-particle  curation           0  TS_69_2            NaN   \n\n       unit                                             points  \\\n0  angstrom  {'location': {'x': 235.918, 'y': 2967.62, 'z':...   \n1  angstrom  {'location': {'x': 516.962, 'y': 4021.185, 'z'...   \n2  angstrom  {'location': {'x': 2832.249, 'y': 750.827, 'z'...   \n3  angstrom  {'location': {'x': 2587.613, 'y': 1360.659, 'z...   \n4  angstrom  {'location': {'x': 5063.363, 'y': 1732.215, 'z...   \n\n   trust_orientation         x         y        z  \n0               True   235.918  2967.620  799.798  \n1               True   516.962  4021.185  878.484  \n2               True  2832.249   750.827  654.317  \n3               True  2587.613  1360.659  814.115  \n4               True  5063.363  1732.215  951.330  \nProcessing Run 2: TS_6_4, Is Train: True\nVolume path: /kaggle/input/czii-cryo-et-object-identification/train/static/ExperimentRuns/TS_6_4/VoxelSpacing10.000/denoised.zarr\n",
          "output_type": "stream"
        },
        {
          "name": "stderr",
          "text": "\n",
          "output_type": "stream"
        },
        {
          "name": "stdout",
          "text": "184\n",
          "output_type": "stream"
        },
        {
          "name": "stderr",
          "text": "Processing particles for run TS_6_4:  50%|█████     | 3/6 [00:00<00:00, 23.10it/s]",
          "output_type": "stream"
        },
        {
          "name": "stdout",
          "text": "Loading JSON file: /kaggle/input/czii-cryo-et-object-identification/train/overlay/ExperimentRuns/TS_6_4/Picks/apo-ferritin.json\naquiii   pickable_object_name   user_id  session_id run_name  voxel_spacing  \\\n0         apo-ferritin  curation           0   TS_6_4            NaN   \n1         apo-ferritin  curation           0   TS_6_4            NaN   \n2         apo-ferritin  curation           0   TS_6_4            NaN   \n3         apo-ferritin  curation           0   TS_6_4            NaN   \n4         apo-ferritin  curation           0   TS_6_4            NaN   \n\n       unit                                             points  \\\n0  angstrom  {'location': {'x': 616.51, 'y': 2880.471, 'z':...   \n1  angstrom  {'location': {'x': 1099.033, 'y': 1820.423, 'z...   \n2  angstrom  {'location': {'x': 1019.831, 'y': 1859.831, 'z...   \n3  angstrom  {'location': {'x': 959.708, 'y': 1708.149, 'z'...   \n4  angstrom  {'location': {'x': 1010.329, 'y': 1758.816, 'z...   \n\n   trust_orientation         x  \n0               True   616.510  \n1               True  1099.033  \n2               True  1019.831  \n3               True   959.708  \n4               True  1010.329  \naquiii   pickable_object_name   user_id  session_id run_name  voxel_spacing  \\\n0         apo-ferritin  curation           0   TS_6_4            NaN   \n1         apo-ferritin  curation           0   TS_6_4            NaN   \n2         apo-ferritin  curation           0   TS_6_4            NaN   \n3         apo-ferritin  curation           0   TS_6_4            NaN   \n4         apo-ferritin  curation           0   TS_6_4            NaN   \n\n       unit                                             points  \\\n0  angstrom  {'location': {'x': 616.51, 'y': 2880.471, 'z':...   \n1  angstrom  {'location': {'x': 1099.033, 'y': 1820.423, 'z...   \n2  angstrom  {'location': {'x': 1019.831, 'y': 1859.831, 'z...   \n3  angstrom  {'location': {'x': 959.708, 'y': 1708.149, 'z'...   \n4  angstrom  {'location': {'x': 1010.329, 'y': 1758.816, 'z...   \n\n   trust_orientation         x         y  \n0               True   616.510  2880.471  \n1               True  1099.033  1820.423  \n2               True  1019.831  1859.831  \n3               True   959.708  1708.149  \n4               True  1010.329  1758.816  \naquiii   pickable_object_name   user_id  session_id run_name  voxel_spacing  \\\n0         apo-ferritin  curation           0   TS_6_4            NaN   \n1         apo-ferritin  curation           0   TS_6_4            NaN   \n2         apo-ferritin  curation           0   TS_6_4            NaN   \n3         apo-ferritin  curation           0   TS_6_4            NaN   \n4         apo-ferritin  curation           0   TS_6_4            NaN   \n\n       unit                                             points  \\\n0  angstrom  {'location': {'x': 616.51, 'y': 2880.471, 'z':...   \n1  angstrom  {'location': {'x': 1099.033, 'y': 1820.423, 'z...   \n2  angstrom  {'location': {'x': 1019.831, 'y': 1859.831, 'z...   \n3  angstrom  {'location': {'x': 959.708, 'y': 1708.149, 'z'...   \n4  angstrom  {'location': {'x': 1010.329, 'y': 1758.816, 'z...   \n\n   trust_orientation         x         y         z  \n0               True   616.510  2880.471  1294.039  \n1               True  1099.033  1820.423   371.571  \n2               True  1019.831  1859.831   400.424  \n3               True   959.708  1708.149   606.039  \n4               True  1010.329  1758.816   718.520  \nLoading JSON file: /kaggle/input/czii-cryo-et-object-identification/train/overlay/ExperimentRuns/TS_6_4/Picks/beta-galactosidase.json\naquiii   pickable_object_name   user_id  session_id run_name  voxel_spacing  \\\n0   beta-galactosidase  curation           0   TS_6_4            NaN   \n1   beta-galactosidase  curation           0   TS_6_4            NaN   \n2   beta-galactosidase  curation           0   TS_6_4            NaN   \n3   beta-galactosidase  curation           0   TS_6_4            NaN   \n4   beta-galactosidase  curation           0   TS_6_4            NaN   \n\n       unit                                             points  \\\n0  angstrom  {'location': {'x': 804.615, 'y': 1977.846, 'z'...   \n1  angstrom  {'location': {'x': 2134.942, 'y': 3647.023, 'z...   \n2  angstrom  {'location': {'x': 5361.881, 'y': 5472.376, 'z...   \n3  angstrom  {'location': {'x': 4130.0, 'y': 3716.667, 'z':...   \n4  angstrom  {'location': {'x': 3072.5, 'y': 4610.0, 'z': 1...   \n\n   trust_orientation         x  \n0               True   804.615  \n1               True  2134.942  \n2               True  5361.881  \n3               True  4130.000  \n4               True  3072.500  \naquiii   pickable_object_name   user_id  session_id run_name  voxel_spacing  \\\n0   beta-galactosidase  curation           0   TS_6_4            NaN   \n1   beta-galactosidase  curation           0   TS_6_4            NaN   \n2   beta-galactosidase  curation           0   TS_6_4            NaN   \n3   beta-galactosidase  curation           0   TS_6_4            NaN   \n4   beta-galactosidase  curation           0   TS_6_4            NaN   \n\n       unit                                             points  \\\n0  angstrom  {'location': {'x': 804.615, 'y': 1977.846, 'z'...   \n1  angstrom  {'location': {'x': 2134.942, 'y': 3647.023, 'z...   \n2  angstrom  {'location': {'x': 5361.881, 'y': 5472.376, 'z...   \n3  angstrom  {'location': {'x': 4130.0, 'y': 3716.667, 'z':...   \n4  angstrom  {'location': {'x': 3072.5, 'y': 4610.0, 'z': 1...   \n\n   trust_orientation         x         y  \n0               True   804.615  1977.846  \n1               True  2134.942  3647.023  \n2               True  5361.881  5472.376  \n3               True  4130.000  3716.667  \n4               True  3072.500  4610.000  \naquiii   pickable_object_name   user_id  session_id run_name  voxel_spacing  \\\n0   beta-galactosidase  curation           0   TS_6_4            NaN   \n1   beta-galactosidase  curation           0   TS_6_4            NaN   \n2   beta-galactosidase  curation           0   TS_6_4            NaN   \n3   beta-galactosidase  curation           0   TS_6_4            NaN   \n4   beta-galactosidase  curation           0   TS_6_4            NaN   \n\n       unit                                             points  \\\n0  angstrom  {'location': {'x': 804.615, 'y': 1977.846, 'z'...   \n1  angstrom  {'location': {'x': 2134.942, 'y': 3647.023, 'z...   \n2  angstrom  {'location': {'x': 5361.881, 'y': 5472.376, 'z...   \n3  angstrom  {'location': {'x': 4130.0, 'y': 3716.667, 'z':...   \n4  angstrom  {'location': {'x': 3072.5, 'y': 4610.0, 'z': 1...   \n\n   trust_orientation         x         y         z  \n0               True   804.615  1977.846   489.385  \n1               True  2134.942  3647.023   657.082  \n2               True  5361.881  5472.376  1032.772  \n3               True  4130.000  3716.667   465.000  \n4               True  3072.500  4610.000  1090.000  \nLoading JSON file: /kaggle/input/czii-cryo-et-object-identification/train/overlay/ExperimentRuns/TS_6_4/Picks/ribosome.json\naquiii   pickable_object_name   user_id  session_id run_name  voxel_spacing  \\\n0             ribosome  curation           0   TS_6_4            NaN   \n1             ribosome  curation           0   TS_6_4            NaN   \n2             ribosome  curation           0   TS_6_4            NaN   \n3             ribosome  curation           0   TS_6_4            NaN   \n4             ribosome  curation           0   TS_6_4            NaN   \n\n       unit                                             points  \\\n0  angstrom  {'location': {'x': 5274.903, 'y': 5288.121, 'z...   \n1  angstrom  {'location': {'x': 5493.057, 'y': 5181.127, 'z...   \n2  angstrom  {'location': {'x': 5656.951, 'y': 5168.655, 'z...   \n3  angstrom  {'location': {'x': 5559.324, 'y': 5426.553, 'z...   \n4  angstrom  {'location': {'x': 5312.439, 'y': 4964.156, 'z...   \n\n   trust_orientation         x  \n0               True  5274.903  \n1               True  5493.057  \n2               True  5656.951  \n3               True  5559.324  \n4               True  5312.439  \naquiii   pickable_object_name   user_id  session_id run_name  voxel_spacing  \\\n0             ribosome  curation           0   TS_6_4            NaN   \n1             ribosome  curation           0   TS_6_4            NaN   \n2             ribosome  curation           0   TS_6_4            NaN   \n3             ribosome  curation           0   TS_6_4            NaN   \n4             ribosome  curation           0   TS_6_4            NaN   \n\n       unit                                             points  \\\n0  angstrom  {'location': {'x': 5274.903, 'y': 5288.121, 'z...   \n1  angstrom  {'location': {'x': 5493.057, 'y': 5181.127, 'z...   \n2  angstrom  {'location': {'x': 5656.951, 'y': 5168.655, 'z...   \n3  angstrom  {'location': {'x': 5559.324, 'y': 5426.553, 'z...   \n4  angstrom  {'location': {'x': 5312.439, 'y': 4964.156, 'z...   \n\n   trust_orientation         x         y  \n0               True  5274.903  5288.121  \n1               True  5493.057  5181.127  \n2               True  5656.951  5168.655  \n3               True  5559.324  5426.553  \n4               True  5312.439  4964.156  \naquiii   pickable_object_name   user_id  session_id run_name  voxel_spacing  \\\n0             ribosome  curation           0   TS_6_4            NaN   \n1             ribosome  curation           0   TS_6_4            NaN   \n2             ribosome  curation           0   TS_6_4            NaN   \n3             ribosome  curation           0   TS_6_4            NaN   \n4             ribosome  curation           0   TS_6_4            NaN   \n\n       unit                                             points  \\\n0  angstrom  {'location': {'x': 5274.903, 'y': 5288.121, 'z...   \n1  angstrom  {'location': {'x': 5493.057, 'y': 5181.127, 'z...   \n2  angstrom  {'location': {'x': 5656.951, 'y': 5168.655, 'z...   \n3  angstrom  {'location': {'x': 5559.324, 'y': 5426.553, 'z...   \n4  angstrom  {'location': {'x': 5312.439, 'y': 4964.156, 'z...   \n\n   trust_orientation         x         y        z  \n0               True  5274.903  5288.121  619.798  \n1               True  5493.057  5181.127  726.624  \n2               True  5656.951  5168.655  421.572  \n3               True  5559.324  5426.553  556.878  \n4               True  5312.439  4964.156  602.574  \n",
          "output_type": "stream"
        },
        {
          "name": "stderr",
          "text": "Processing particles for run TS_6_4: 100%|██████████| 6/6 [00:00<00:00, 14.98it/s]",
          "output_type": "stream"
        },
        {
          "name": "stdout",
          "text": "Loading JSON file: /kaggle/input/czii-cryo-et-object-identification/train/overlay/ExperimentRuns/TS_6_4/Picks/thyroglobulin.json\naquiii   pickable_object_name   user_id  session_id run_name  voxel_spacing  \\\n0        thyroglobulin  curation           0   TS_6_4            NaN   \n1        thyroglobulin  curation           0   TS_6_4            NaN   \n2        thyroglobulin  curation           0   TS_6_4            NaN   \n3        thyroglobulin  curation           0   TS_6_4            NaN   \n4        thyroglobulin  curation           0   TS_6_4            NaN   \n\n       unit                                             points  \\\n0  angstrom  {'location': {'x': 5251.785, 'y': 2090.452, 'z...   \n1  angstrom  {'location': {'x': 5704.207, 'y': 2059.378, 'z...   \n2  angstrom  {'location': {'x': 5926.681, 'y': 1787.182, 'z...   \n3  angstrom  {'location': {'x': 4967.648, 'y': 2249.978, 'z...   \n4  angstrom  {'location': {'x': 1242.919, 'y': 1464.644, 'z...   \n\n   trust_orientation         x  \n0               True  5251.785  \n1               True  5704.207  \n2               True  5926.681  \n3               True  4967.648  \n4               True  1242.919  \naquiii   pickable_object_name   user_id  session_id run_name  voxel_spacing  \\\n0        thyroglobulin  curation           0   TS_6_4            NaN   \n1        thyroglobulin  curation           0   TS_6_4            NaN   \n2        thyroglobulin  curation           0   TS_6_4            NaN   \n3        thyroglobulin  curation           0   TS_6_4            NaN   \n4        thyroglobulin  curation           0   TS_6_4            NaN   \n\n       unit                                             points  \\\n0  angstrom  {'location': {'x': 5251.785, 'y': 2090.452, 'z...   \n1  angstrom  {'location': {'x': 5704.207, 'y': 2059.378, 'z...   \n2  angstrom  {'location': {'x': 5926.681, 'y': 1787.182, 'z...   \n3  angstrom  {'location': {'x': 4967.648, 'y': 2249.978, 'z...   \n4  angstrom  {'location': {'x': 1242.919, 'y': 1464.644, 'z...   \n\n   trust_orientation         x         y  \n0               True  5251.785  2090.452  \n1               True  5704.207  2059.378  \n2               True  5926.681  1787.182  \n3               True  4967.648  2249.978  \n4               True  1242.919  1464.644  \naquiii   pickable_object_name   user_id  session_id run_name  voxel_spacing  \\\n0        thyroglobulin  curation           0   TS_6_4            NaN   \n1        thyroglobulin  curation           0   TS_6_4            NaN   \n2        thyroglobulin  curation           0   TS_6_4            NaN   \n3        thyroglobulin  curation           0   TS_6_4            NaN   \n4        thyroglobulin  curation           0   TS_6_4            NaN   \n\n       unit                                             points  \\\n0  angstrom  {'location': {'x': 5251.785, 'y': 2090.452, 'z...   \n1  angstrom  {'location': {'x': 5704.207, 'y': 2059.378, 'z...   \n2  angstrom  {'location': {'x': 5926.681, 'y': 1787.182, 'z...   \n3  angstrom  {'location': {'x': 4967.648, 'y': 2249.978, 'z...   \n4  angstrom  {'location': {'x': 1242.919, 'y': 1464.644, 'z...   \n\n   trust_orientation         x         y        z  \n0               True  5251.785  2090.452  490.516  \n1               True  5704.207  2059.378  481.002  \n2               True  5926.681  1787.182  496.498  \n3               True  4967.648  2249.978  522.505  \n4               True  1242.919  1464.644  581.353  \nLoading JSON file: /kaggle/input/czii-cryo-et-object-identification/train/overlay/ExperimentRuns/TS_6_4/Picks/virus-like-particle.json\naquiii   pickable_object_name   user_id  session_id run_name  voxel_spacing  \\\n0  virus-like-particle  curation           0   TS_6_4            NaN   \n1  virus-like-particle  curation           0   TS_6_4            NaN   \n2  virus-like-particle  curation           0   TS_6_4            NaN   \n3  virus-like-particle  curation           0   TS_6_4            NaN   \n4  virus-like-particle  curation           0   TS_6_4            NaN   \n\n       unit                                             points  \\\n0  angstrom  {'location': {'x': 911.29, 'y': 5638.402, 'z':...   \n1  angstrom  {'location': {'x': 122.332, 'y': 5627.746, 'z'...   \n2  angstrom  {'location': {'x': 1452.865, 'y': 4795.545, 'z...   \n3  angstrom  {'location': {'x': 5580.108, 'y': 1240.86, 'z'...   \n4  angstrom  {'location': {'x': 4765.58, 'y': 3469.964, 'z'...   \n\n   trust_orientation         x  \n0               True   911.290  \n1               True   122.332  \n2               True  1452.865  \n3               True  5580.108  \n4               True  4765.580  \naquiii   pickable_object_name   user_id  session_id run_name  voxel_spacing  \\\n0  virus-like-particle  curation           0   TS_6_4            NaN   \n1  virus-like-particle  curation           0   TS_6_4            NaN   \n2  virus-like-particle  curation           0   TS_6_4            NaN   \n3  virus-like-particle  curation           0   TS_6_4            NaN   \n4  virus-like-particle  curation           0   TS_6_4            NaN   \n\n       unit                                             points  \\\n0  angstrom  {'location': {'x': 911.29, 'y': 5638.402, 'z':...   \n1  angstrom  {'location': {'x': 122.332, 'y': 5627.746, 'z'...   \n2  angstrom  {'location': {'x': 1452.865, 'y': 4795.545, 'z...   \n3  angstrom  {'location': {'x': 5580.108, 'y': 1240.86, 'z'...   \n4  angstrom  {'location': {'x': 4765.58, 'y': 3469.964, 'z'...   \n\n   trust_orientation         x         y  \n0               True   911.290  5638.402  \n1               True   122.332  5627.746  \n2               True  1452.865  4795.545  \n3               True  5580.108  1240.860  \n4               True  4765.580  3469.964  \naquiii   pickable_object_name   user_id  session_id run_name  voxel_spacing  \\\n0  virus-like-particle  curation           0   TS_6_4            NaN   \n1  virus-like-particle  curation           0   TS_6_4            NaN   \n2  virus-like-particle  curation           0   TS_6_4            NaN   \n3  virus-like-particle  curation           0   TS_6_4            NaN   \n4  virus-like-particle  curation           0   TS_6_4            NaN   \n\n       unit                                             points  \\\n0  angstrom  {'location': {'x': 911.29, 'y': 5638.402, 'z':...   \n1  angstrom  {'location': {'x': 122.332, 'y': 5627.746, 'z'...   \n2  angstrom  {'location': {'x': 1452.865, 'y': 4795.545, 'z...   \n3  angstrom  {'location': {'x': 5580.108, 'y': 1240.86, 'z'...   \n4  angstrom  {'location': {'x': 4765.58, 'y': 3469.964, 'z'...   \n\n   trust_orientation         x         y         z  \n0               True   911.290  5638.402   671.210  \n1               True   122.332  5627.746  1066.367  \n2               True  1452.865  4795.545  1116.066  \n3               True  5580.108  1240.860   692.222  \n4               True  4765.580  3469.964   689.813  \nProcessing Run 3: TS_6_6, Is Train: True\nVolume path: /kaggle/input/czii-cryo-et-object-identification/train/static/ExperimentRuns/TS_6_6/VoxelSpacing10.000/denoised.zarr\n",
          "output_type": "stream"
        },
        {
          "name": "stderr",
          "text": "\n",
          "output_type": "stream"
        },
        {
          "name": "stdout",
          "text": "184\n",
          "output_type": "stream"
        },
        {
          "name": "stderr",
          "text": "Processing particles for run TS_6_6:  50%|█████     | 3/6 [00:00<00:00, 23.92it/s]",
          "output_type": "stream"
        },
        {
          "name": "stdout",
          "text": "Loading JSON file: /kaggle/input/czii-cryo-et-object-identification/train/overlay/ExperimentRuns/TS_6_6/Picks/apo-ferritin.json\naquiii   pickable_object_name   user_id  session_id run_name  voxel_spacing  \\\n0         apo-ferritin  curation           0   TS_6_6            NaN   \n1         apo-ferritin  curation           0   TS_6_6            NaN   \n2         apo-ferritin  curation           0   TS_6_6            NaN   \n3         apo-ferritin  curation           0   TS_6_6            NaN   \n4         apo-ferritin  curation           0   TS_6_6            NaN   \n\n       unit                                             points  \\\n0  angstrom  {'location': {'x': 1916.83, 'y': 3311.797, 'z'...   \n1  angstrom  {'location': {'x': 1996.861, 'y': 3231.277, 'z...   \n2  angstrom  {'location': {'x': 2206.512, 'y': 2975.302, 'z...   \n3  angstrom  {'location': {'x': 285.292, 'y': 1379.331, 'z'...   \n4  angstrom  {'location': {'x': 753.781, 'y': 2633.219, 'z'...   \n\n   trust_orientation         x  \n0               True  1916.830  \n1               True  1996.861  \n2               True  2206.512  \n3               True   285.292  \n4               True   753.781  \naquiii   pickable_object_name   user_id  session_id run_name  voxel_spacing  \\\n0         apo-ferritin  curation           0   TS_6_6            NaN   \n1         apo-ferritin  curation           0   TS_6_6            NaN   \n2         apo-ferritin  curation           0   TS_6_6            NaN   \n3         apo-ferritin  curation           0   TS_6_6            NaN   \n4         apo-ferritin  curation           0   TS_6_6            NaN   \n\n       unit                                             points  \\\n0  angstrom  {'location': {'x': 1916.83, 'y': 3311.797, 'z'...   \n1  angstrom  {'location': {'x': 1996.861, 'y': 3231.277, 'z...   \n2  angstrom  {'location': {'x': 2206.512, 'y': 2975.302, 'z...   \n3  angstrom  {'location': {'x': 285.292, 'y': 1379.331, 'z'...   \n4  angstrom  {'location': {'x': 753.781, 'y': 2633.219, 'z'...   \n\n   trust_orientation         x         y  \n0               True  1916.830  3311.797  \n1               True  1996.861  3231.277  \n2               True  2206.512  2975.302  \n3               True   285.292  1379.331  \n4               True   753.781  2633.219  \naquiii   pickable_object_name   user_id  session_id run_name  voxel_spacing  \\\n0         apo-ferritin  curation           0   TS_6_6            NaN   \n1         apo-ferritin  curation           0   TS_6_6            NaN   \n2         apo-ferritin  curation           0   TS_6_6            NaN   \n3         apo-ferritin  curation           0   TS_6_6            NaN   \n4         apo-ferritin  curation           0   TS_6_6            NaN   \n\n       unit                                             points  \\\n0  angstrom  {'location': {'x': 1916.83, 'y': 3311.797, 'z'...   \n1  angstrom  {'location': {'x': 1996.861, 'y': 3231.277, 'z...   \n2  angstrom  {'location': {'x': 2206.512, 'y': 2975.302, 'z...   \n3  angstrom  {'location': {'x': 285.292, 'y': 1379.331, 'z'...   \n4  angstrom  {'location': {'x': 753.781, 'y': 2633.219, 'z'...   \n\n   trust_orientation         x         y         z  \n0               True  1916.830  3311.797   754.673  \n1               True  1996.861  3231.277   803.577  \n2               True  2206.512  2975.302  1179.674  \n3               True   285.292  1379.331   417.577  \n4               True   753.781  2633.219   973.094  \nLoading JSON file: /kaggle/input/czii-cryo-et-object-identification/train/overlay/ExperimentRuns/TS_6_6/Picks/beta-galactosidase.json\naquiii   pickable_object_name   user_id  session_id run_name  voxel_spacing  \\\n0   beta-galactosidase  curation           0   TS_6_6            NaN   \n1   beta-galactosidase  curation           0   TS_6_6            NaN   \n2   beta-galactosidase  curation           0   TS_6_6            NaN   \n3   beta-galactosidase  curation           0   TS_6_6            NaN   \n4   beta-galactosidase  curation           0   TS_6_6            NaN   \n\n       unit                                             points  \\\n0  angstrom  {'location': {'x': 5524.088, 'y': 3251.226, 'z...   \n1  angstrom  {'location': {'x': 5046.434, 'y': 1586.382, 'z...   \n2  angstrom  {'location': {'x': 4640.0, 'y': 1865.0, 'z': 6...   \n3  angstrom  {'location': {'x': 1777.5, 'y': 3650.417, 'z':...   \n4  angstrom  {'location': {'x': 1343.732, 'y': 5939.859, 'z...   \n\n   trust_orientation         x  \n0               True  5524.088  \n1               True  5046.434  \n2               True  4640.000  \n3               True  1777.500  \n4               True  1343.732  \naquiii   pickable_object_name   user_id  session_id run_name  voxel_spacing  \\\n0   beta-galactosidase  curation           0   TS_6_6            NaN   \n1   beta-galactosidase  curation           0   TS_6_6            NaN   \n2   beta-galactosidase  curation           0   TS_6_6            NaN   \n3   beta-galactosidase  curation           0   TS_6_6            NaN   \n4   beta-galactosidase  curation           0   TS_6_6            NaN   \n\n       unit                                             points  \\\n0  angstrom  {'location': {'x': 5524.088, 'y': 3251.226, 'z...   \n1  angstrom  {'location': {'x': 5046.434, 'y': 1586.382, 'z...   \n2  angstrom  {'location': {'x': 4640.0, 'y': 1865.0, 'z': 6...   \n3  angstrom  {'location': {'x': 1777.5, 'y': 3650.417, 'z':...   \n4  angstrom  {'location': {'x': 1343.732, 'y': 5939.859, 'z...   \n\n   trust_orientation         x         y  \n0               True  5524.088  3251.226  \n1               True  5046.434  1586.382  \n2               True  4640.000  1865.000  \n3               True  1777.500  3650.417  \n4               True  1343.732  5939.859  \naquiii   pickable_object_name   user_id  session_id run_name  voxel_spacing  \\\n0   beta-galactosidase  curation           0   TS_6_6            NaN   \n1   beta-galactosidase  curation           0   TS_6_6            NaN   \n2   beta-galactosidase  curation           0   TS_6_6            NaN   \n3   beta-galactosidase  curation           0   TS_6_6            NaN   \n4   beta-galactosidase  curation           0   TS_6_6            NaN   \n\n       unit                                             points  \\\n0  angstrom  {'location': {'x': 5524.088, 'y': 3251.226, 'z...   \n1  angstrom  {'location': {'x': 5046.434, 'y': 1586.382, 'z...   \n2  angstrom  {'location': {'x': 4640.0, 'y': 1865.0, 'z': 6...   \n3  angstrom  {'location': {'x': 1777.5, 'y': 3650.417, 'z':...   \n4  angstrom  {'location': {'x': 1343.732, 'y': 5939.859, 'z...   \n\n   trust_orientation         x         y         z  \n0               True  5524.088  3251.226   619.877  \n1               True  5046.434  1586.382   988.516  \n2               True  4640.000  1865.000   685.000  \n3               True  1777.500  3650.417   600.000  \n4               True  1343.732  5939.859  1039.930  \nLoading JSON file: /kaggle/input/czii-cryo-et-object-identification/train/overlay/ExperimentRuns/TS_6_6/Picks/ribosome.json\naquiii   pickable_object_name   user_id  session_id run_name  voxel_spacing  \\\n0             ribosome  curation           0   TS_6_6            NaN   \n1             ribosome  curation           0   TS_6_6            NaN   \n2             ribosome  curation           0   TS_6_6            NaN   \n3             ribosome  curation           0   TS_6_6            NaN   \n4             ribosome  curation           0   TS_6_6            NaN   \n\n       unit                                             points  \\\n0  angstrom  {'location': {'x': 773.644, 'y': 4975.664, 'z'...   \n1  angstrom  {'location': {'x': 1029.655, 'y': 5119.687, 'z...   \n2  angstrom  {'location': {'x': 2106.09, 'y': 4846.302, 'z'...   \n3  angstrom  {'location': {'x': 2843.254, 'y': 5123.492, 'z...   \n4  angstrom  {'location': {'x': 3676.182, 'y': 4058.335, 'z...   \n\n   trust_orientation         x  \n0               True   773.644  \n1               True  1029.655  \n2               True  2106.090  \n3               True  2843.254  \n4               True  3676.182  \naquiii   pickable_object_name   user_id  session_id run_name  voxel_spacing  \\\n0             ribosome  curation           0   TS_6_6            NaN   \n1             ribosome  curation           0   TS_6_6            NaN   \n2             ribosome  curation           0   TS_6_6            NaN   \n3             ribosome  curation           0   TS_6_6            NaN   \n4             ribosome  curation           0   TS_6_6            NaN   \n\n       unit                                             points  \\\n0  angstrom  {'location': {'x': 773.644, 'y': 4975.664, 'z'...   \n1  angstrom  {'location': {'x': 1029.655, 'y': 5119.687, 'z...   \n2  angstrom  {'location': {'x': 2106.09, 'y': 4846.302, 'z'...   \n3  angstrom  {'location': {'x': 2843.254, 'y': 5123.492, 'z...   \n4  angstrom  {'location': {'x': 3676.182, 'y': 4058.335, 'z...   \n\n   trust_orientation         x         y  \n0               True   773.644  4975.664  \n1               True  1029.655  5119.687  \n2               True  2106.090  4846.302  \n3               True  2843.254  5123.492  \n4               True  3676.182  4058.335  \naquiii   pickable_object_name   user_id  session_id run_name  voxel_spacing  \\\n0             ribosome  curation           0   TS_6_6            NaN   \n1             ribosome  curation           0   TS_6_6            NaN   \n2             ribosome  curation           0   TS_6_6            NaN   \n3             ribosome  curation           0   TS_6_6            NaN   \n4             ribosome  curation           0   TS_6_6            NaN   \n\n       unit                                             points  \\\n0  angstrom  {'location': {'x': 773.644, 'y': 4975.664, 'z'...   \n1  angstrom  {'location': {'x': 1029.655, 'y': 5119.687, 'z...   \n2  angstrom  {'location': {'x': 2106.09, 'y': 4846.302, 'z'...   \n3  angstrom  {'location': {'x': 2843.254, 'y': 5123.492, 'z...   \n4  angstrom  {'location': {'x': 3676.182, 'y': 4058.335, 'z...   \n\n   trust_orientation         x         y         z  \n0               True   773.644  4975.664  1499.213  \n1               True  1029.655  5119.687  1332.989  \n2               True  2106.090  4846.302  1289.305  \n3               True  2843.254  5123.492  1377.645  \n4               True  3676.182  4058.335  1228.490  \nLoading JSON file: /kaggle/input/czii-cryo-et-object-identification/train/overlay/ExperimentRuns/TS_6_6/Picks/thyroglobulin.json\n",
          "output_type": "stream"
        },
        {
          "name": "stderr",
          "text": "Processing particles for run TS_6_6: 100%|██████████| 6/6 [00:00<00:00, 16.51it/s]",
          "output_type": "stream"
        },
        {
          "name": "stdout",
          "text": "aquiii   pickable_object_name   user_id  session_id run_name  voxel_spacing  \\\n0        thyroglobulin  curation           0   TS_6_6            NaN   \n1        thyroglobulin  curation           0   TS_6_6            NaN   \n2        thyroglobulin  curation           0   TS_6_6            NaN   \n3        thyroglobulin  curation           0   TS_6_6            NaN   \n4        thyroglobulin  curation           0   TS_6_6            NaN   \n\n       unit                                             points  \\\n0  angstrom  {'location': {'x': 4709.027, 'y': 5996.216, 'z...   \n1  angstrom  {'location': {'x': 2822.785, 'y': 2974.861, 'z...   \n2  angstrom  {'location': {'x': 2974.63, 'y': 5786.818, 'z'...   \n3  angstrom  {'location': {'x': 4622.227, 'y': 4238.002, 'z...   \n4  angstrom  {'location': {'x': 1743.59, 'y': 605.843, 'z':...   \n\n   trust_orientation         x  \n0               True  4709.027  \n1               True  2822.785  \n2               True  2974.630  \n3               True  4622.227  \n4               True  1743.590  \naquiii   pickable_object_name   user_id  session_id run_name  voxel_spacing  \\\n0        thyroglobulin  curation           0   TS_6_6            NaN   \n1        thyroglobulin  curation           0   TS_6_6            NaN   \n2        thyroglobulin  curation           0   TS_6_6            NaN   \n3        thyroglobulin  curation           0   TS_6_6            NaN   \n4        thyroglobulin  curation           0   TS_6_6            NaN   \n\n       unit                                             points  \\\n0  angstrom  {'location': {'x': 4709.027, 'y': 5996.216, 'z...   \n1  angstrom  {'location': {'x': 2822.785, 'y': 2974.861, 'z...   \n2  angstrom  {'location': {'x': 2974.63, 'y': 5786.818, 'z'...   \n3  angstrom  {'location': {'x': 4622.227, 'y': 4238.002, 'z...   \n4  angstrom  {'location': {'x': 1743.59, 'y': 605.843, 'z':...   \n\n   trust_orientation         x         y  \n0               True  4709.027  5996.216  \n1               True  2822.785  2974.861  \n2               True  2974.630  5786.818  \n3               True  4622.227  4238.002  \n4               True  1743.590   605.843  \naquiii   pickable_object_name   user_id  session_id run_name  voxel_spacing  \\\n0        thyroglobulin  curation           0   TS_6_6            NaN   \n1        thyroglobulin  curation           0   TS_6_6            NaN   \n2        thyroglobulin  curation           0   TS_6_6            NaN   \n3        thyroglobulin  curation           0   TS_6_6            NaN   \n4        thyroglobulin  curation           0   TS_6_6            NaN   \n\n       unit                                             points  \\\n0  angstrom  {'location': {'x': 4709.027, 'y': 5996.216, 'z...   \n1  angstrom  {'location': {'x': 2822.785, 'y': 2974.861, 'z...   \n2  angstrom  {'location': {'x': 2974.63, 'y': 5786.818, 'z'...   \n3  angstrom  {'location': {'x': 4622.227, 'y': 4238.002, 'z...   \n4  angstrom  {'location': {'x': 1743.59, 'y': 605.843, 'z':...   \n\n   trust_orientation         x         y        z  \n0               True  4709.027  5996.216  316.811  \n1               True  2822.785  2974.861  443.679  \n2               True  2974.630  5786.818  491.110  \n3               True  4622.227  4238.002  506.417  \n4               True  1743.590   605.843  529.632  \nLoading JSON file: /kaggle/input/czii-cryo-et-object-identification/train/overlay/ExperimentRuns/TS_6_6/Picks/virus-like-particle.json\naquiii   pickable_object_name   user_id  session_id run_name  voxel_spacing  \\\n0  virus-like-particle  curation           0   TS_6_6            NaN   \n1  virus-like-particle  curation           0   TS_6_6            NaN   \n2  virus-like-particle  curation           0   TS_6_6            NaN   \n3  virus-like-particle  curation           0   TS_6_6            NaN   \n4  virus-like-particle  curation           0   TS_6_6            NaN   \n\n       unit                                             points  \\\n0  angstrom  {'location': {'x': 4113.927, 'y': 1540.028, 'z...   \n1  angstrom  {'location': {'x': 4205.011, 'y': 514.238, 'z'...   \n2  angstrom  {'location': {'x': 3546.662, 'y': 996.468, 'z'...   \n3  angstrom  {'location': {'x': 238.569, 'y': 3475.323, 'z'...   \n4  angstrom  {'location': {'x': 404.421, 'y': 2707.26, 'z':...   \n\n   trust_orientation         x  \n0               True  4113.927  \n1               True  4205.011  \n2               True  3546.662  \n3               True   238.569  \n4               True   404.421  \naquiii   pickable_object_name   user_id  session_id run_name  voxel_spacing  \\\n0  virus-like-particle  curation           0   TS_6_6            NaN   \n1  virus-like-particle  curation           0   TS_6_6            NaN   \n2  virus-like-particle  curation           0   TS_6_6            NaN   \n3  virus-like-particle  curation           0   TS_6_6            NaN   \n4  virus-like-particle  curation           0   TS_6_6            NaN   \n\n       unit                                             points  \\\n0  angstrom  {'location': {'x': 4113.927, 'y': 1540.028, 'z...   \n1  angstrom  {'location': {'x': 4205.011, 'y': 514.238, 'z'...   \n2  angstrom  {'location': {'x': 3546.662, 'y': 996.468, 'z'...   \n3  angstrom  {'location': {'x': 238.569, 'y': 3475.323, 'z'...   \n4  angstrom  {'location': {'x': 404.421, 'y': 2707.26, 'z':...   \n\n   trust_orientation         x         y  \n0               True  4113.927  1540.028  \n1               True  4205.011   514.238  \n2               True  3546.662   996.468  \n3               True   238.569  3475.323  \n4               True   404.421  2707.260  \naquiii   pickable_object_name   user_id  session_id run_name  voxel_spacing  \\\n0  virus-like-particle  curation           0   TS_6_6            NaN   \n1  virus-like-particle  curation           0   TS_6_6            NaN   \n2  virus-like-particle  curation           0   TS_6_6            NaN   \n3  virus-like-particle  curation           0   TS_6_6            NaN   \n4  virus-like-particle  curation           0   TS_6_6            NaN   \n\n       unit                                             points  \\\n0  angstrom  {'location': {'x': 4113.927, 'y': 1540.028, 'z...   \n1  angstrom  {'location': {'x': 4205.011, 'y': 514.238, 'z'...   \n2  angstrom  {'location': {'x': 3546.662, 'y': 996.468, 'z'...   \n3  angstrom  {'location': {'x': 238.569, 'y': 3475.323, 'z'...   \n4  angstrom  {'location': {'x': 404.421, 'y': 2707.26, 'z':...   \n\n   trust_orientation         x         y         z  \n0               True  4113.927  1540.028   957.754  \n1               True  4205.011   514.238   377.245  \n2               True  3546.662   996.468  1199.592  \n3               True   238.569  3475.323   722.892  \n4               True   404.421  2707.260   970.408  \nProcessing Run 4: TS_73_6, Is Train: True\nVolume path: /kaggle/input/czii-cryo-et-object-identification/train/static/ExperimentRuns/TS_73_6/VoxelSpacing10.000/denoised.zarr\n",
          "output_type": "stream"
        },
        {
          "name": "stderr",
          "text": "\n",
          "output_type": "stream"
        },
        {
          "name": "stdout",
          "text": "184\n",
          "output_type": "stream"
        },
        {
          "name": "stderr",
          "text": "Processing particles for run TS_73_6:  17%|█▋        | 1/6 [00:00<00:00,  8.96it/s]",
          "output_type": "stream"
        },
        {
          "name": "stdout",
          "text": "Loading JSON file: /kaggle/input/czii-cryo-et-object-identification/train/overlay/ExperimentRuns/TS_73_6/Picks/apo-ferritin.json\naquiii   pickable_object_name   user_id  session_id run_name  voxel_spacing  \\\n0         apo-ferritin  curation           0  TS_73_6            NaN   \n1         apo-ferritin  curation           0  TS_73_6            NaN   \n2         apo-ferritin  curation           0  TS_73_6            NaN   \n3         apo-ferritin  curation           0  TS_73_6            NaN   \n4         apo-ferritin  curation           0  TS_73_6            NaN   \n\n       unit                                             points  \\\n0  angstrom  {'location': {'x': 268.662, 'y': 4730.318, 'z'...   \n1  angstrom  {'location': {'x': 238.946, 'y': 4853.061, 'z'...   \n2  angstrom  {'location': {'x': 83.114, 'y': 5729.56, 'z': ...   \n3  angstrom  {'location': {'x': 582.143, 'y': 2769.968, 'z'...   \n4  angstrom  {'location': {'x': 510.389, 'y': 2157.244, 'z'...   \n\n   trust_orientation        x  \n0               True  268.662  \n1               True  238.946  \n2               True   83.114  \n3               True  582.143  \n4               True  510.389  \naquiii   pickable_object_name   user_id  session_id run_name  voxel_spacing  \\\n0         apo-ferritin  curation           0  TS_73_6            NaN   \n1         apo-ferritin  curation           0  TS_73_6            NaN   \n2         apo-ferritin  curation           0  TS_73_6            NaN   \n3         apo-ferritin  curation           0  TS_73_6            NaN   \n4         apo-ferritin  curation           0  TS_73_6            NaN   \n\n       unit                                             points  \\\n0  angstrom  {'location': {'x': 268.662, 'y': 4730.318, 'z'...   \n1  angstrom  {'location': {'x': 238.946, 'y': 4853.061, 'z'...   \n2  angstrom  {'location': {'x': 83.114, 'y': 5729.56, 'z': ...   \n3  angstrom  {'location': {'x': 582.143, 'y': 2769.968, 'z'...   \n4  angstrom  {'location': {'x': 510.389, 'y': 2157.244, 'z'...   \n\n   trust_orientation        x         y  \n0               True  268.662  4730.318  \n1               True  238.946  4853.061  \n2               True   83.114  5729.560  \n3               True  582.143  2769.968  \n4               True  510.389  2157.244  \naquiii   pickable_object_name   user_id  session_id run_name  voxel_spacing  \\\n0         apo-ferritin  curation           0  TS_73_6            NaN   \n1         apo-ferritin  curation           0  TS_73_6            NaN   \n2         apo-ferritin  curation           0  TS_73_6            NaN   \n3         apo-ferritin  curation           0  TS_73_6            NaN   \n4         apo-ferritin  curation           0  TS_73_6            NaN   \n\n       unit                                             points  \\\n0  angstrom  {'location': {'x': 268.662, 'y': 4730.318, 'z'...   \n1  angstrom  {'location': {'x': 238.946, 'y': 4853.061, 'z'...   \n2  angstrom  {'location': {'x': 83.114, 'y': 5729.56, 'z': ...   \n3  angstrom  {'location': {'x': 582.143, 'y': 2769.968, 'z'...   \n4  angstrom  {'location': {'x': 510.389, 'y': 2157.244, 'z'...   \n\n   trust_orientation        x         y         z  \n0               True  268.662  4730.318   916.115  \n1               True  238.946  4853.061   909.898  \n2               True   83.114  5729.560  1219.524  \n3               True  582.143  2769.968  1076.364  \n4               True  510.389  2157.244   362.438  \nLoading JSON file: /kaggle/input/czii-cryo-et-object-identification/train/overlay/ExperimentRuns/TS_73_6/Picks/beta-galactosidase.json\naquiii   pickable_object_name   user_id  session_id run_name  voxel_spacing  \\\n0   beta-galactosidase  curation           0  TS_73_6            NaN   \n1   beta-galactosidase  curation           0  TS_73_6            NaN   \n2   beta-galactosidase  curation           0  TS_73_6            NaN   \n3   beta-galactosidase  curation           0  TS_73_6            NaN   \n4   beta-galactosidase  curation           0  TS_73_6            NaN   \n\n       unit                                             points  \\\n0  angstrom  {'location': {'x': 2285.357, 'y': 2137.571, 'z...   \n1  angstrom  {'location': {'x': 4008.603, 'y': 383.309, 'z'...   \n2  angstrom  {'location': {'x': 839.231, 'y': 1602.692, 'z'...   \n3  angstrom  {'location': {'x': 188.815, 'y': 2167.37, 'z':...   \n4  angstrom  {'location': {'x': 742.788, 'y': 2808.077, 'z'...   \n\n   trust_orientation         x  \n0               True  2285.357  \n1               True  4008.603  \n2               True   839.231  \n3               True   188.815  \n4               True   742.788  \naquiii   pickable_object_name   user_id  session_id run_name  voxel_spacing  \\\n0   beta-galactosidase  curation           0  TS_73_6            NaN   \n1   beta-galactosidase  curation           0  TS_73_6            NaN   \n2   beta-galactosidase  curation           0  TS_73_6            NaN   \n3   beta-galactosidase  curation           0  TS_73_6            NaN   \n4   beta-galactosidase  curation           0  TS_73_6            NaN   \n\n       unit                                             points  \\\n0  angstrom  {'location': {'x': 2285.357, 'y': 2137.571, 'z...   \n1  angstrom  {'location': {'x': 4008.603, 'y': 383.309, 'z'...   \n2  angstrom  {'location': {'x': 839.231, 'y': 1602.692, 'z'...   \n3  angstrom  {'location': {'x': 188.815, 'y': 2167.37, 'z':...   \n4  angstrom  {'location': {'x': 742.788, 'y': 2808.077, 'z'...   \n\n   trust_orientation         x         y  \n0               True  2285.357  2137.571  \n1               True  4008.603   383.309  \n2               True   839.231  1602.692  \n3               True   188.815  2167.370  \n4               True   742.788  2808.077  \naquiii   pickable_object_name   user_id  session_id run_name  voxel_spacing  \\\n0   beta-galactosidase  curation           0  TS_73_6            NaN   \n1   beta-galactosidase  curation           0  TS_73_6            NaN   \n2   beta-galactosidase  curation           0  TS_73_6            NaN   \n3   beta-galactosidase  curation           0  TS_73_6            NaN   \n4   beta-galactosidase  curation           0  TS_73_6            NaN   \n\n       unit                                             points  \\\n0  angstrom  {'location': {'x': 2285.357, 'y': 2137.571, 'z...   \n1  angstrom  {'location': {'x': 4008.603, 'y': 383.309, 'z'...   \n2  angstrom  {'location': {'x': 839.231, 'y': 1602.692, 'z'...   \n3  angstrom  {'location': {'x': 188.815, 'y': 2167.37, 'z':...   \n4  angstrom  {'location': {'x': 742.788, 'y': 2808.077, 'z'...   \n\n   trust_orientation         x         y         z  \n0               True  2285.357  2137.571   596.214  \n1               True  4008.603   383.309   798.529  \n2               True   839.231  1602.692  1088.077  \n3               True   188.815  2167.370   769.741  \n4               True   742.788  2808.077   246.058  \nLoading JSON file: /kaggle/input/czii-cryo-et-object-identification/train/overlay/ExperimentRuns/TS_73_6/Picks/ribosome.json\naquiii   pickable_object_name   user_id  session_id run_name  voxel_spacing  \\\n0             ribosome  curation           0  TS_73_6            NaN   \n1             ribosome  curation           0  TS_73_6            NaN   \n2             ribosome  curation           0  TS_73_6            NaN   \n3             ribosome  curation           0  TS_73_6            NaN   \n4             ribosome  curation           0  TS_73_6            NaN   \n\n       unit                                             points  \\\n0  angstrom  {'location': {'x': 5812.21, 'y': 954.718, 'z':...   \n1  angstrom  {'location': {'x': 5598.248, 'y': 890.665, 'z'...   \n2  angstrom  {'location': {'x': 5869.463, 'y': 488.783, 'z'...   \n3  angstrom  {'location': {'x': 5850.904, 'y': 575.293, 'z'...   \n4  angstrom  {'location': {'x': 5940.845, 'y': 736.687, 'z'...   \n\n   trust_orientation         x  \n0               True  5812.210  \n1               True  5598.248  \n2               True  5869.463  \n3               True  5850.904  \n4               True  5940.845  \naquiii   pickable_object_name   user_id  session_id run_name  voxel_spacing  \\\n0             ribosome  curation           0  TS_73_6            NaN   \n1             ribosome  curation           0  TS_73_6            NaN   \n2             ribosome  curation           0  TS_73_6            NaN   \n3             ribosome  curation           0  TS_73_6            NaN   \n4             ribosome  curation           0  TS_73_6            NaN   \n\n       unit                                             points  \\\n0  angstrom  {'location': {'x': 5812.21, 'y': 954.718, 'z':...   \n1  angstrom  {'location': {'x': 5598.248, 'y': 890.665, 'z'...   \n2  angstrom  {'location': {'x': 5869.463, 'y': 488.783, 'z'...   \n3  angstrom  {'location': {'x': 5850.904, 'y': 575.293, 'z'...   \n4  angstrom  {'location': {'x': 5940.845, 'y': 736.687, 'z'...   \n\n   trust_orientation         x        y  \n0               True  5812.210  954.718  \n1               True  5598.248  890.665  \n2               True  5869.463  488.783  \n3               True  5850.904  575.293  \n4               True  5940.845  736.687  \naquiii   pickable_object_name   user_id  session_id run_name  voxel_spacing  \\\n0             ribosome  curation           0  TS_73_6            NaN   \n1             ribosome  curation           0  TS_73_6            NaN   \n2             ribosome  curation           0  TS_73_6            NaN   \n3             ribosome  curation           0  TS_73_6            NaN   \n4             ribosome  curation           0  TS_73_6            NaN   \n\n       unit                                             points  \\\n0  angstrom  {'location': {'x': 5812.21, 'y': 954.718, 'z':...   \n1  angstrom  {'location': {'x': 5598.248, 'y': 890.665, 'z'...   \n2  angstrom  {'location': {'x': 5869.463, 'y': 488.783, 'z'...   \n3  angstrom  {'location': {'x': 5850.904, 'y': 575.293, 'z'...   \n4  angstrom  {'location': {'x': 5940.845, 'y': 736.687, 'z'...   \n\n   trust_orientation         x        y        z  \n0               True  5812.210  954.718  134.827  \n1               True  5598.248  890.665  230.051  \n2               True  5869.463  488.783  285.901  \n3               True  5850.904  575.293  735.879  \n4               True  5940.845  736.687  114.293  \n",
          "output_type": "stream"
        },
        {
          "name": "stderr",
          "text": "Processing particles for run TS_73_6: 100%|██████████| 6/6 [00:00<00:00, 14.47it/s]\n",
          "output_type": "stream"
        },
        {
          "name": "stdout",
          "text": "Loading JSON file: /kaggle/input/czii-cryo-et-object-identification/train/overlay/ExperimentRuns/TS_73_6/Picks/thyroglobulin.json\naquiii   pickable_object_name   user_id  session_id run_name  voxel_spacing  \\\n0        thyroglobulin  curation           0  TS_73_6            NaN   \n1        thyroglobulin  curation           0  TS_73_6            NaN   \n2        thyroglobulin  curation           0  TS_73_6            NaN   \n3        thyroglobulin  curation           0  TS_73_6            NaN   \n4        thyroglobulin  curation           0  TS_73_6            NaN   \n\n       unit                                             points  \\\n0  angstrom  {'location': {'x': 1841.78, 'y': 1057.592, 'z'...   \n1  angstrom  {'location': {'x': 2387.281, 'y': 2326.345, 'z...   \n2  angstrom  {'location': {'x': 3242.6, 'y': 452.621, 'z': ...   \n3  angstrom  {'location': {'x': 409.479, 'y': 1796.38, 'z':...   \n4  angstrom  {'location': {'x': 4582.511, 'y': 1738.01, 'z'...   \n\n   trust_orientation         x  \n0               True  1841.780  \n1               True  2387.281  \n2               True  3242.600  \n3               True   409.479  \n4               True  4582.511  \naquiii   pickable_object_name   user_id  session_id run_name  voxel_spacing  \\\n0        thyroglobulin  curation           0  TS_73_6            NaN   \n1        thyroglobulin  curation           0  TS_73_6            NaN   \n2        thyroglobulin  curation           0  TS_73_6            NaN   \n3        thyroglobulin  curation           0  TS_73_6            NaN   \n4        thyroglobulin  curation           0  TS_73_6            NaN   \n\n       unit                                             points  \\\n0  angstrom  {'location': {'x': 1841.78, 'y': 1057.592, 'z'...   \n1  angstrom  {'location': {'x': 2387.281, 'y': 2326.345, 'z...   \n2  angstrom  {'location': {'x': 3242.6, 'y': 452.621, 'z': ...   \n3  angstrom  {'location': {'x': 409.479, 'y': 1796.38, 'z':...   \n4  angstrom  {'location': {'x': 4582.511, 'y': 1738.01, 'z'...   \n\n   trust_orientation         x         y  \n0               True  1841.780  1057.592  \n1               True  2387.281  2326.345  \n2               True  3242.600   452.621  \n3               True   409.479  1796.380  \n4               True  4582.511  1738.010  \naquiii   pickable_object_name   user_id  session_id run_name  voxel_spacing  \\\n0        thyroglobulin  curation           0  TS_73_6            NaN   \n1        thyroglobulin  curation           0  TS_73_6            NaN   \n2        thyroglobulin  curation           0  TS_73_6            NaN   \n3        thyroglobulin  curation           0  TS_73_6            NaN   \n4        thyroglobulin  curation           0  TS_73_6            NaN   \n\n       unit                                             points  \\\n0  angstrom  {'location': {'x': 1841.78, 'y': 1057.592, 'z'...   \n1  angstrom  {'location': {'x': 2387.281, 'y': 2326.345, 'z...   \n2  angstrom  {'location': {'x': 3242.6, 'y': 452.621, 'z': ...   \n3  angstrom  {'location': {'x': 409.479, 'y': 1796.38, 'z':...   \n4  angstrom  {'location': {'x': 4582.511, 'y': 1738.01, 'z'...   \n\n   trust_orientation         x         y        z  \n0               True  1841.780  1057.592  258.848  \n1               True  2387.281  2326.345  331.932  \n2               True  3242.600   452.621  489.296  \n3               True   409.479  1796.380  525.534  \n4               True  4582.511  1738.010  569.479  \nLoading JSON file: /kaggle/input/czii-cryo-et-object-identification/train/overlay/ExperimentRuns/TS_73_6/Picks/virus-like-particle.json\naquiii   pickable_object_name   user_id  session_id run_name  voxel_spacing  \\\n0  virus-like-particle  curation           0  TS_73_6            NaN   \n1  virus-like-particle  curation           0  TS_73_6            NaN   \n2  virus-like-particle  curation           0  TS_73_6            NaN   \n3  virus-like-particle  curation           0  TS_73_6            NaN   \n4  virus-like-particle  curation           0  TS_73_6            NaN   \n\n       unit                                             points  \\\n0  angstrom  {'location': {'x': 3023.031, 'y': 6098.949, 'z...   \n1  angstrom  {'location': {'x': 2133.513, 'y': 5544.092, 'z...   \n2  angstrom  {'location': {'x': 5175.693, 'y': 1206.756, 'z...   \n3  angstrom  {'location': {'x': 4849.137, 'y': 666.384, 'z'...   \n4  angstrom  {'location': {'x': 6161.707, 'y': 2651.433, 'z...   \n\n   trust_orientation         x  \n0               True  3023.031  \n1               True  2133.513  \n2               True  5175.693  \n3               True  4849.137  \n4               True  6161.707  \naquiii   pickable_object_name   user_id  session_id run_name  voxel_spacing  \\\n0  virus-like-particle  curation           0  TS_73_6            NaN   \n1  virus-like-particle  curation           0  TS_73_6            NaN   \n2  virus-like-particle  curation           0  TS_73_6            NaN   \n3  virus-like-particle  curation           0  TS_73_6            NaN   \n4  virus-like-particle  curation           0  TS_73_6            NaN   \n\n       unit                                             points  \\\n0  angstrom  {'location': {'x': 3023.031, 'y': 6098.949, 'z...   \n1  angstrom  {'location': {'x': 2133.513, 'y': 5544.092, 'z...   \n2  angstrom  {'location': {'x': 5175.693, 'y': 1206.756, 'z...   \n3  angstrom  {'location': {'x': 4849.137, 'y': 666.384, 'z'...   \n4  angstrom  {'location': {'x': 6161.707, 'y': 2651.433, 'z...   \n\n   trust_orientation         x         y  \n0               True  3023.031  6098.949  \n1               True  2133.513  5544.092  \n2               True  5175.693  1206.756  \n3               True  4849.137   666.384  \n4               True  6161.707  2651.433  \naquiii   pickable_object_name   user_id  session_id run_name  voxel_spacing  \\\n0  virus-like-particle  curation           0  TS_73_6            NaN   \n1  virus-like-particle  curation           0  TS_73_6            NaN   \n2  virus-like-particle  curation           0  TS_73_6            NaN   \n3  virus-like-particle  curation           0  TS_73_6            NaN   \n4  virus-like-particle  curation           0  TS_73_6            NaN   \n\n       unit                                             points  \\\n0  angstrom  {'location': {'x': 3023.031, 'y': 6098.949, 'z...   \n1  angstrom  {'location': {'x': 2133.513, 'y': 5544.092, 'z...   \n2  angstrom  {'location': {'x': 5175.693, 'y': 1206.756, 'z...   \n3  angstrom  {'location': {'x': 4849.137, 'y': 666.384, 'z'...   \n4  angstrom  {'location': {'x': 6161.707, 'y': 2651.433, 'z...   \n\n   trust_orientation         x         y        z  \n0               True  3023.031  6098.949  542.343  \n1               True  2133.513  5544.092  839.866  \n2               True  5175.693  1206.756  215.022  \n3               True  4849.137   666.384  412.947  \n4               True  6161.707  2651.433  465.402  \nProcessing Run 5: TS_86_3, Is Train: True\nVolume path: /kaggle/input/czii-cryo-et-object-identification/train/static/ExperimentRuns/TS_86_3/VoxelSpacing10.000/denoised.zarr\n184\n",
          "output_type": "stream"
        },
        {
          "name": "stderr",
          "text": "Processing particles for run TS_86_3:  50%|█████     | 3/6 [00:00<00:00, 19.94it/s]",
          "output_type": "stream"
        },
        {
          "name": "stdout",
          "text": "Loading JSON file: /kaggle/input/czii-cryo-et-object-identification/train/overlay/ExperimentRuns/TS_86_3/Picks/apo-ferritin.json\naquiii   pickable_object_name   user_id  session_id run_name  voxel_spacing  \\\n0         apo-ferritin  curation           0  TS_86_3            NaN   \n1         apo-ferritin  curation           0  TS_86_3            NaN   \n2         apo-ferritin  curation           0  TS_86_3            NaN   \n3         apo-ferritin  curation           0  TS_86_3            NaN   \n4         apo-ferritin  curation           0  TS_86_3            NaN   \n\n       unit                                             points  \\\n0  angstrom  {'location': {'x': 3870.343, 'y': 4952.714, 'z...   \n1  angstrom  {'location': {'x': 4130.897, 'y': 5422.292, 'z...   \n2  angstrom  {'location': {'x': 2735.0, 'y': 4668.447, 'z':...   \n3  angstrom  {'location': {'x': 2649.615, 'y': 4690.615, 'z...   \n4  angstrom  {'location': {'x': 2665.353, 'y': 4810.641, 'z...   \n\n   trust_orientation         x  \n0               True  3870.343  \n1               True  4130.897  \n2               True  2735.000  \n3               True  2649.615  \n4               True  2665.353  \naquiii   pickable_object_name   user_id  session_id run_name  voxel_spacing  \\\n0         apo-ferritin  curation           0  TS_86_3            NaN   \n1         apo-ferritin  curation           0  TS_86_3            NaN   \n2         apo-ferritin  curation           0  TS_86_3            NaN   \n3         apo-ferritin  curation           0  TS_86_3            NaN   \n4         apo-ferritin  curation           0  TS_86_3            NaN   \n\n       unit                                             points  \\\n0  angstrom  {'location': {'x': 3870.343, 'y': 4952.714, 'z...   \n1  angstrom  {'location': {'x': 4130.897, 'y': 5422.292, 'z...   \n2  angstrom  {'location': {'x': 2735.0, 'y': 4668.447, 'z':...   \n3  angstrom  {'location': {'x': 2649.615, 'y': 4690.615, 'z...   \n4  angstrom  {'location': {'x': 2665.353, 'y': 4810.641, 'z...   \n\n   trust_orientation         x         y  \n0               True  3870.343  4952.714  \n1               True  4130.897  5422.292  \n2               True  2735.000  4668.447  \n3               True  2649.615  4690.615  \n4               True  2665.353  4810.641  \naquiii   pickable_object_name   user_id  session_id run_name  voxel_spacing  \\\n0         apo-ferritin  curation           0  TS_86_3            NaN   \n1         apo-ferritin  curation           0  TS_86_3            NaN   \n2         apo-ferritin  curation           0  TS_86_3            NaN   \n3         apo-ferritin  curation           0  TS_86_3            NaN   \n4         apo-ferritin  curation           0  TS_86_3            NaN   \n\n       unit                                             points  \\\n0  angstrom  {'location': {'x': 3870.343, 'y': 4952.714, 'z...   \n1  angstrom  {'location': {'x': 4130.897, 'y': 5422.292, 'z...   \n2  angstrom  {'location': {'x': 2735.0, 'y': 4668.447, 'z':...   \n3  angstrom  {'location': {'x': 2649.615, 'y': 4690.615, 'z...   \n4  angstrom  {'location': {'x': 2665.353, 'y': 4810.641, 'z...   \n\n   trust_orientation         x         y         z  \n0               True  3870.343  4952.714  1261.600  \n1               True  4130.897  5422.292   501.860  \n2               True  2735.000  4668.447   520.291  \n3               True  2649.615  4690.615   600.923  \n4               True  2665.353  4810.641   612.019  \nLoading JSON file: /kaggle/input/czii-cryo-et-object-identification/train/overlay/ExperimentRuns/TS_86_3/Picks/beta-galactosidase.json\naquiii   pickable_object_name   user_id  session_id run_name  voxel_spacing  \\\n0   beta-galactosidase  curation           0  TS_86_3            NaN   \n1   beta-galactosidase  curation           0  TS_86_3            NaN   \n2   beta-galactosidase  curation           0  TS_86_3            NaN   \n3   beta-galactosidase  curation           0  TS_86_3            NaN   \n4   beta-galactosidase  curation           0  TS_86_3            NaN   \n\n       unit                                             points  \\\n0  angstrom  {'location': {'x': 348.342, 'y': 3368.995, 'z'...   \n1  angstrom  {'location': {'x': 3111.559, 'y': 1404.395, 'z...   \n2  angstrom  {'location': {'x': 5128.266, 'y': 4932.229, 'z...   \n3  angstrom  {'location': {'x': 3984.278, 'y': 423.056, 'z'...   \n4  angstrom  {'location': {'x': 2763.251, 'y': 3038.958, 'z...   \n\n   trust_orientation         x  \n0               True   348.342  \n1               True  3111.559  \n2               True  5128.266  \n3               True  3984.278  \n4               True  2763.251  \naquiii   pickable_object_name   user_id  session_id run_name  voxel_spacing  \\\n0   beta-galactosidase  curation           0  TS_86_3            NaN   \n1   beta-galactosidase  curation           0  TS_86_3            NaN   \n2   beta-galactosidase  curation           0  TS_86_3            NaN   \n3   beta-galactosidase  curation           0  TS_86_3            NaN   \n4   beta-galactosidase  curation           0  TS_86_3            NaN   \n\n       unit                                             points  \\\n0  angstrom  {'location': {'x': 348.342, 'y': 3368.995, 'z'...   \n1  angstrom  {'location': {'x': 3111.559, 'y': 1404.395, 'z...   \n2  angstrom  {'location': {'x': 5128.266, 'y': 4932.229, 'z...   \n3  angstrom  {'location': {'x': 3984.278, 'y': 423.056, 'z'...   \n4  angstrom  {'location': {'x': 2763.251, 'y': 3038.958, 'z...   \n\n   trust_orientation         x         y  \n0               True   348.342  3368.995  \n1               True  3111.559  1404.395  \n2               True  5128.266  4932.229  \n3               True  3984.278   423.056  \n4               True  2763.251  3038.958  \naquiii   pickable_object_name   user_id  session_id run_name  voxel_spacing  \\\n0   beta-galactosidase  curation           0  TS_86_3            NaN   \n1   beta-galactosidase  curation           0  TS_86_3            NaN   \n2   beta-galactosidase  curation           0  TS_86_3            NaN   \n3   beta-galactosidase  curation           0  TS_86_3            NaN   \n4   beta-galactosidase  curation           0  TS_86_3            NaN   \n\n       unit                                             points  \\\n0  angstrom  {'location': {'x': 348.342, 'y': 3368.995, 'z'...   \n1  angstrom  {'location': {'x': 3111.559, 'y': 1404.395, 'z...   \n2  angstrom  {'location': {'x': 5128.266, 'y': 4932.229, 'z...   \n3  angstrom  {'location': {'x': 3984.278, 'y': 423.056, 'z'...   \n4  angstrom  {'location': {'x': 2763.251, 'y': 3038.958, 'z...   \n\n   trust_orientation         x         y        z  \n0               True   348.342  3368.995  520.000  \n1               True  3111.559  1404.395  597.264  \n2               True  5128.266  4932.229  585.512  \n3               True  3984.278   423.056  725.944  \n4               True  2763.251  3038.958  855.062  \nLoading JSON file: /kaggle/input/czii-cryo-et-object-identification/train/overlay/ExperimentRuns/TS_86_3/Picks/ribosome.json\naquiii   pickable_object_name   user_id  session_id run_name  voxel_spacing  \\\n0             ribosome  curation           0  TS_86_3            NaN   \n1             ribosome  curation           0  TS_86_3            NaN   \n2             ribosome  curation           0  TS_86_3            NaN   \n3             ribosome  curation           0  TS_86_3            NaN   \n4             ribosome  curation           0  TS_86_3            NaN   \n\n       unit                                             points  \\\n0  angstrom  {'location': {'x': 4662.299, 'y': 5907.258, 'z...   \n1  angstrom  {'location': {'x': 4504.116, 'y': 5758.297, 'z...   \n2  angstrom  {'location': {'x': 4462.021, 'y': 6207.162, 'z...   \n3  angstrom  {'location': {'x': 4777.299, 'y': 6156.435, 'z...   \n4  angstrom  {'location': {'x': 4666.205, 'y': 5215.513, 'z...   \n\n   trust_orientation         x  \n0               True  4662.299  \n1               True  4504.116  \n2               True  4462.021  \n3               True  4777.299  \n4               True  4666.205  \naquiii   pickable_object_name   user_id  session_id run_name  voxel_spacing  \\\n0             ribosome  curation           0  TS_86_3            NaN   \n1             ribosome  curation           0  TS_86_3            NaN   \n2             ribosome  curation           0  TS_86_3            NaN   \n3             ribosome  curation           0  TS_86_3            NaN   \n4             ribosome  curation           0  TS_86_3            NaN   \n\n       unit                                             points  \\\n0  angstrom  {'location': {'x': 4662.299, 'y': 5907.258, 'z...   \n1  angstrom  {'location': {'x': 4504.116, 'y': 5758.297, 'z...   \n2  angstrom  {'location': {'x': 4462.021, 'y': 6207.162, 'z...   \n3  angstrom  {'location': {'x': 4777.299, 'y': 6156.435, 'z...   \n4  angstrom  {'location': {'x': 4666.205, 'y': 5215.513, 'z...   \n\n   trust_orientation         x         y  \n0               True  4662.299  5907.258  \n1               True  4504.116  5758.297  \n2               True  4462.021  6207.162  \n3               True  4777.299  6156.435  \n4               True  4666.205  5215.513  \naquiii   pickable_object_name   user_id  session_id run_name  voxel_spacing  \\\n0             ribosome  curation           0  TS_86_3            NaN   \n1             ribosome  curation           0  TS_86_3            NaN   \n2             ribosome  curation           0  TS_86_3            NaN   \n3             ribosome  curation           0  TS_86_3            NaN   \n4             ribosome  curation           0  TS_86_3            NaN   \n\n       unit                                             points  \\\n0  angstrom  {'location': {'x': 4662.299, 'y': 5907.258, 'z...   \n1  angstrom  {'location': {'x': 4504.116, 'y': 5758.297, 'z...   \n2  angstrom  {'location': {'x': 4462.021, 'y': 6207.162, 'z...   \n3  angstrom  {'location': {'x': 4777.299, 'y': 6156.435, 'z...   \n4  angstrom  {'location': {'x': 4666.205, 'y': 5215.513, 'z...   \n\n   trust_orientation         x         y         z  \n0               True  4662.299  5907.258   945.084  \n1               True  4504.116  5758.297  1102.158  \n2               True  4462.021  6207.162   999.208  \n3               True  4777.299  6156.435  1063.849  \n4               True  4666.205  5215.513   747.842  \n",
          "output_type": "stream"
        },
        {
          "name": "stderr",
          "text": "Processing particles for run TS_86_3: 100%|██████████| 6/6 [00:00<00:00, 12.87it/s]",
          "output_type": "stream"
        },
        {
          "name": "stdout",
          "text": "Loading JSON file: /kaggle/input/czii-cryo-et-object-identification/train/overlay/ExperimentRuns/TS_86_3/Picks/thyroglobulin.json\naquiii   pickable_object_name   user_id  session_id run_name  voxel_spacing  \\\n0        thyroglobulin  curation           0  TS_86_3            NaN   \n1        thyroglobulin  curation           0  TS_86_3            NaN   \n2        thyroglobulin  curation           0  TS_86_3            NaN   \n3        thyroglobulin  curation           0  TS_86_3            NaN   \n4        thyroglobulin  curation           0  TS_86_3            NaN   \n\n       unit                                             points  \\\n0  angstrom  {'location': {'x': 3491.458, 'y': 1964.375, 'z...   \n1  angstrom  {'location': {'x': 1059.895, 'y': 338.01, 'z':...   \n2  angstrom  {'location': {'x': 5583.535, 'y': 5055.373, 'z...   \n3  angstrom  {'location': {'x': 3753.362, 'y': 3195.014, 'z...   \n4  angstrom  {'location': {'x': 4845.469, 'y': 5984.182, 'z...   \n\n   trust_orientation         x  \n0               True  3491.458  \n1               True  1059.895  \n2               True  5583.535  \n3               True  3753.362  \n4               True  4845.469  \naquiii   pickable_object_name   user_id  session_id run_name  voxel_spacing  \\\n0        thyroglobulin  curation           0  TS_86_3            NaN   \n1        thyroglobulin  curation           0  TS_86_3            NaN   \n2        thyroglobulin  curation           0  TS_86_3            NaN   \n3        thyroglobulin  curation           0  TS_86_3            NaN   \n4        thyroglobulin  curation           0  TS_86_3            NaN   \n\n       unit                                             points  \\\n0  angstrom  {'location': {'x': 3491.458, 'y': 1964.375, 'z...   \n1  angstrom  {'location': {'x': 1059.895, 'y': 338.01, 'z':...   \n2  angstrom  {'location': {'x': 5583.535, 'y': 5055.373, 'z...   \n3  angstrom  {'location': {'x': 3753.362, 'y': 3195.014, 'z...   \n4  angstrom  {'location': {'x': 4845.469, 'y': 5984.182, 'z...   \n\n   trust_orientation         x         y  \n0               True  3491.458  1964.375  \n1               True  1059.895   338.010  \n2               True  5583.535  5055.373  \n3               True  3753.362  3195.014  \n4               True  4845.469  5984.182  \naquiii   pickable_object_name   user_id  session_id run_name  voxel_spacing  \\\n0        thyroglobulin  curation           0  TS_86_3            NaN   \n1        thyroglobulin  curation           0  TS_86_3            NaN   \n2        thyroglobulin  curation           0  TS_86_3            NaN   \n3        thyroglobulin  curation           0  TS_86_3            NaN   \n4        thyroglobulin  curation           0  TS_86_3            NaN   \n\n       unit                                             points  \\\n0  angstrom  {'location': {'x': 3491.458, 'y': 1964.375, 'z...   \n1  angstrom  {'location': {'x': 1059.895, 'y': 338.01, 'z':...   \n2  angstrom  {'location': {'x': 5583.535, 'y': 5055.373, 'z...   \n3  angstrom  {'location': {'x': 3753.362, 'y': 3195.014, 'z...   \n4  angstrom  {'location': {'x': 4845.469, 'y': 5984.182, 'z...   \n\n   trust_orientation         x         y        z  \n0               True  3491.458  1964.375  301.542  \n1               True  1059.895   338.010  466.754  \n2               True  5583.535  5055.373  522.266  \n3               True  3753.362  3195.014  497.106  \n4               True  4845.469  5984.182  512.044  \nLoading JSON file: /kaggle/input/czii-cryo-et-object-identification/train/overlay/ExperimentRuns/TS_86_3/Picks/virus-like-particle.json\naquiii   pickable_object_name   user_id  session_id run_name  voxel_spacing  \\\n0  virus-like-particle  curation           0  TS_86_3            NaN   \n1  virus-like-particle  curation           0  TS_86_3            NaN   \n2  virus-like-particle  curation           0  TS_86_3            NaN   \n3  virus-like-particle  curation           0  TS_86_3            NaN   \n4  virus-like-particle  curation           0  TS_86_3            NaN   \n\n       unit                                             points  \\\n0  angstrom  {'location': {'x': 154.098, 'y': 4542.461, 'z'...   \n1  angstrom  {'location': {'x': 5162.937, 'y': 6250.567, 'z...   \n2  angstrom  {'location': {'x': 5478.422, 'y': 5660.856, 'z...   \n3  angstrom  {'location': {'x': 6024.374, 'y': 5816.326, 'z...   \n4  angstrom  {'location': {'x': 5670.599, 'y': 3861.008, 'z...   \n\n   trust_orientation         x  \n0               True   154.098  \n1               True  5162.937  \n2               True  5478.422  \n3               True  6024.374  \n4               True  5670.599  \naquiii   pickable_object_name   user_id  session_id run_name  voxel_spacing  \\\n0  virus-like-particle  curation           0  TS_86_3            NaN   \n1  virus-like-particle  curation           0  TS_86_3            NaN   \n2  virus-like-particle  curation           0  TS_86_3            NaN   \n3  virus-like-particle  curation           0  TS_86_3            NaN   \n4  virus-like-particle  curation           0  TS_86_3            NaN   \n\n       unit                                             points  \\\n0  angstrom  {'location': {'x': 154.098, 'y': 4542.461, 'z'...   \n1  angstrom  {'location': {'x': 5162.937, 'y': 6250.567, 'z...   \n2  angstrom  {'location': {'x': 5478.422, 'y': 5660.856, 'z...   \n3  angstrom  {'location': {'x': 6024.374, 'y': 5816.326, 'z...   \n4  angstrom  {'location': {'x': 5670.599, 'y': 3861.008, 'z...   \n\n   trust_orientation         x         y  \n0               True   154.098  4542.461  \n1               True  5162.937  6250.567  \n2               True  5478.422  5660.856  \n3               True  6024.374  5816.326  \n4               True  5670.599  3861.008  \naquiii   pickable_object_name   user_id  session_id run_name  voxel_spacing  \\\n0  virus-like-particle  curation           0  TS_86_3            NaN   \n1  virus-like-particle  curation           0  TS_86_3            NaN   \n2  virus-like-particle  curation           0  TS_86_3            NaN   \n3  virus-like-particle  curation           0  TS_86_3            NaN   \n4  virus-like-particle  curation           0  TS_86_3            NaN   \n\n       unit                                             points  \\\n0  angstrom  {'location': {'x': 154.098, 'y': 4542.461, 'z'...   \n1  angstrom  {'location': {'x': 5162.937, 'y': 6250.567, 'z...   \n2  angstrom  {'location': {'x': 5478.422, 'y': 5660.856, 'z...   \n3  angstrom  {'location': {'x': 6024.374, 'y': 5816.326, 'z...   \n4  angstrom  {'location': {'x': 5670.599, 'y': 3861.008, 'z...   \n\n   trust_orientation         x         y         z  \n0               True   154.098  4542.461   671.862  \n1               True  5162.937  6250.567   783.617  \n2               True  5478.422  5660.856  1001.878  \n3               True  6024.374  5816.326   630.589  \n4               True  5670.599  3861.008   454.412  \nProcessing Run 6: TS_99_9, Is Train: True\nVolume path: /kaggle/input/czii-cryo-et-object-identification/train/static/ExperimentRuns/TS_99_9/VoxelSpacing10.000/denoised.zarr\n",
          "output_type": "stream"
        },
        {
          "name": "stderr",
          "text": "\n",
          "output_type": "stream"
        },
        {
          "name": "stdout",
          "text": "184\n",
          "output_type": "stream"
        },
        {
          "name": "stderr",
          "text": "Processing particles for run TS_99_9:   0%|          | 0/6 [00:00<?, ?it/s]",
          "output_type": "stream"
        },
        {
          "name": "stdout",
          "text": "Loading JSON file: /kaggle/input/czii-cryo-et-object-identification/train/overlay/ExperimentRuns/TS_99_9/Picks/apo-ferritin.json\naquiii   pickable_object_name   user_id  session_id run_name  voxel_spacing  \\\n0         apo-ferritin  curation           0  TS_99_9            NaN   \n1         apo-ferritin  curation           0  TS_99_9            NaN   \n2         apo-ferritin  curation           0  TS_99_9            NaN   \n3         apo-ferritin  curation           0  TS_99_9            NaN   \n4         apo-ferritin  curation           0  TS_99_9            NaN   \n\n       unit                                             points  \\\n0  angstrom  {'location': {'x': 6072.464, 'y': 4038.0, 'z':...   \n1  angstrom  {'location': {'x': 5967.452, 'y': 4228.213, 'z...   \n2  angstrom  {'location': {'x': 5847.622, 'y': 5066.71, 'z'...   \n3  angstrom  {'location': {'x': 472.853, 'y': 5632.618, 'z'...   \n4  angstrom  {'location': {'x': 564.507, 'y': 5604.88, 'z':...   \n\n   trust_orientation         x  \n0               True  6072.464  \n1               True  5967.452  \n2               True  5847.622  \n3               True   472.853  \n4               True   564.507  \naquiii   pickable_object_name   user_id  session_id run_name  voxel_spacing  \\\n0         apo-ferritin  curation           0  TS_99_9            NaN   \n1         apo-ferritin  curation           0  TS_99_9            NaN   \n2         apo-ferritin  curation           0  TS_99_9            NaN   \n3         apo-ferritin  curation           0  TS_99_9            NaN   \n4         apo-ferritin  curation           0  TS_99_9            NaN   \n\n       unit                                             points  \\\n0  angstrom  {'location': {'x': 6072.464, 'y': 4038.0, 'z':...   \n1  angstrom  {'location': {'x': 5967.452, 'y': 4228.213, 'z...   \n2  angstrom  {'location': {'x': 5847.622, 'y': 5066.71, 'z'...   \n3  angstrom  {'location': {'x': 472.853, 'y': 5632.618, 'z'...   \n4  angstrom  {'location': {'x': 564.507, 'y': 5604.88, 'z':...   \n\n   trust_orientation         x         y  \n0               True  6072.464  4038.000  \n1               True  5967.452  4228.213  \n2               True  5847.622  5066.710  \n3               True   472.853  5632.618  \n4               True   564.507  5604.880  \naquiii   pickable_object_name   user_id  session_id run_name  voxel_spacing  \\\n0         apo-ferritin  curation           0  TS_99_9            NaN   \n1         apo-ferritin  curation           0  TS_99_9            NaN   \n2         apo-ferritin  curation           0  TS_99_9            NaN   \n3         apo-ferritin  curation           0  TS_99_9            NaN   \n4         apo-ferritin  curation           0  TS_99_9            NaN   \n\n       unit                                             points  \\\n0  angstrom  {'location': {'x': 6072.464, 'y': 4038.0, 'z':...   \n1  angstrom  {'location': {'x': 5967.452, 'y': 4228.213, 'z...   \n2  angstrom  {'location': {'x': 5847.622, 'y': 5066.71, 'z'...   \n3  angstrom  {'location': {'x': 472.853, 'y': 5632.618, 'z'...   \n4  angstrom  {'location': {'x': 564.507, 'y': 5604.88, 'z':...   \n\n   trust_orientation         x         y         z  \n0               True  6072.464  4038.000   715.679  \n1               True  5967.452  4228.213  1124.601  \n2               True  5847.622  5066.710   678.893  \n3               True   472.853  5632.618   580.676  \n4               True   564.507  5604.880   678.160  \nLoading JSON file: /kaggle/input/czii-cryo-et-object-identification/train/overlay/ExperimentRuns/TS_99_9/Picks/beta-galactosidase.json\naquiii   pickable_object_name   user_id  session_id run_name  voxel_spacing  \\\n0   beta-galactosidase  curation           0  TS_99_9            NaN   \n1   beta-galactosidase  curation           0  TS_99_9            NaN   \n2   beta-galactosidase  curation           0  TS_99_9            NaN   \n3   beta-galactosidase  curation           0  TS_99_9            NaN   \n4   beta-galactosidase  curation           0  TS_99_9            NaN   \n\n       unit                                             points  \\\n0  angstrom  {'location': {'x': 5628.926, 'y': 4904.558, 'z...   \n1  angstrom  {'location': {'x': 5173.756, 'y': 5124.78, 'z'...   \n2  angstrom  {'location': {'x': 3510.155, 'y': 195.58, 'z':...   \n3  angstrom  {'location': {'x': 5368.571, 'y': 3285.0, 'z':...   \n4  angstrom  {'location': {'x': 5870.914, 'y': 2555.995, 'z...   \n\n   trust_orientation         x  \n0               True  5628.926  \n1               True  5173.756  \n2               True  3510.155  \n3               True  5368.571  \n4               True  5870.914  \naquiii   pickable_object_name   user_id  session_id run_name  voxel_spacing  \\\n0   beta-galactosidase  curation           0  TS_99_9            NaN   \n1   beta-galactosidase  curation           0  TS_99_9            NaN   \n2   beta-galactosidase  curation           0  TS_99_9            NaN   \n3   beta-galactosidase  curation           0  TS_99_9            NaN   \n4   beta-galactosidase  curation           0  TS_99_9            NaN   \n\n       unit                                             points  \\\n0  angstrom  {'location': {'x': 5628.926, 'y': 4904.558, 'z...   \n1  angstrom  {'location': {'x': 5173.756, 'y': 5124.78, 'z'...   \n2  angstrom  {'location': {'x': 3510.155, 'y': 195.58, 'z':...   \n3  angstrom  {'location': {'x': 5368.571, 'y': 3285.0, 'z':...   \n4  angstrom  {'location': {'x': 5870.914, 'y': 2555.995, 'z...   \n\n   trust_orientation         x         y  \n0               True  5628.926  4904.558  \n1               True  5173.756  5124.780  \n2               True  3510.155   195.580  \n3               True  5368.571  3285.000  \n4               True  5870.914  2555.995  \naquiii   pickable_object_name   user_id  session_id run_name  voxel_spacing  \\\n0   beta-galactosidase  curation           0  TS_99_9            NaN   \n1   beta-galactosidase  curation           0  TS_99_9            NaN   \n2   beta-galactosidase  curation           0  TS_99_9            NaN   \n3   beta-galactosidase  curation           0  TS_99_9            NaN   \n4   beta-galactosidase  curation           0  TS_99_9            NaN   \n\n       unit                                             points  \\\n0  angstrom  {'location': {'x': 5628.926, 'y': 4904.558, 'z...   \n1  angstrom  {'location': {'x': 5173.756, 'y': 5124.78, 'z'...   \n2  angstrom  {'location': {'x': 3510.155, 'y': 195.58, 'z':...   \n3  angstrom  {'location': {'x': 5368.571, 'y': 3285.0, 'z':...   \n4  angstrom  {'location': {'x': 5870.914, 'y': 2555.995, 'z...   \n\n   trust_orientation         x         y        z  \n0               True  5628.926  4904.558  596.945  \n1               True  5173.756  5124.780  558.683  \n2               True  3510.155   195.580  743.106  \n3               True  5368.571  3285.000  924.286  \n4               True  5870.914  2555.995  402.796  \n",
          "output_type": "stream"
        },
        {
          "name": "stderr",
          "text": "Processing particles for run TS_99_9:  50%|█████     | 3/6 [00:00<00:00, 12.87it/s]",
          "output_type": "stream"
        },
        {
          "name": "stdout",
          "text": "Loading JSON file: /kaggle/input/czii-cryo-et-object-identification/train/overlay/ExperimentRuns/TS_99_9/Picks/ribosome.json\naquiii   pickable_object_name   user_id  session_id run_name  voxel_spacing  \\\n0             ribosome  curation           0  TS_99_9            NaN   \n1             ribosome  curation           0  TS_99_9            NaN   \n2             ribosome  curation           0  TS_99_9            NaN   \n3             ribosome  curation           0  TS_99_9            NaN   \n4             ribosome  curation           0  TS_99_9            NaN   \n\n       unit                                             points  \\\n0  angstrom  {'location': {'x': 3319.52, 'y': 5476.3, 'z': ...   \n1  angstrom  {'location': {'x': 3106.079, 'y': 5574.209, 'z...   \n2  angstrom  {'location': {'x': 3676.997, 'y': 5271.281, 'z...   \n3  angstrom  {'location': {'x': 3717.18, 'y': 5455.125, 'z'...   \n4  angstrom  {'location': {'x': 3525.117, 'y': 5614.423, 'z...   \n\n   trust_orientation         x  \n0               True  3319.520  \n1               True  3106.079  \n2               True  3676.997  \n3               True  3717.180  \n4               True  3525.117  \naquiii   pickable_object_name   user_id  session_id run_name  voxel_spacing  \\\n0             ribosome  curation           0  TS_99_9            NaN   \n1             ribosome  curation           0  TS_99_9            NaN   \n2             ribosome  curation           0  TS_99_9            NaN   \n3             ribosome  curation           0  TS_99_9            NaN   \n4             ribosome  curation           0  TS_99_9            NaN   \n\n       unit                                             points  \\\n0  angstrom  {'location': {'x': 3319.52, 'y': 5476.3, 'z': ...   \n1  angstrom  {'location': {'x': 3106.079, 'y': 5574.209, 'z...   \n2  angstrom  {'location': {'x': 3676.997, 'y': 5271.281, 'z...   \n3  angstrom  {'location': {'x': 3717.18, 'y': 5455.125, 'z'...   \n4  angstrom  {'location': {'x': 3525.117, 'y': 5614.423, 'z...   \n\n   trust_orientation         x         y  \n0               True  3319.520  5476.300  \n1               True  3106.079  5574.209  \n2               True  3676.997  5271.281  \n3               True  3717.180  5455.125  \n4               True  3525.117  5614.423  \naquiii   pickable_object_name   user_id  session_id run_name  voxel_spacing  \\\n0             ribosome  curation           0  TS_99_9            NaN   \n1             ribosome  curation           0  TS_99_9            NaN   \n2             ribosome  curation           0  TS_99_9            NaN   \n3             ribosome  curation           0  TS_99_9            NaN   \n4             ribosome  curation           0  TS_99_9            NaN   \n\n       unit                                             points  \\\n0  angstrom  {'location': {'x': 3319.52, 'y': 5476.3, 'z': ...   \n1  angstrom  {'location': {'x': 3106.079, 'y': 5574.209, 'z...   \n2  angstrom  {'location': {'x': 3676.997, 'y': 5271.281, 'z...   \n3  angstrom  {'location': {'x': 3717.18, 'y': 5455.125, 'z'...   \n4  angstrom  {'location': {'x': 3525.117, 'y': 5614.423, 'z...   \n\n   trust_orientation         x         y         z  \n0               True  3319.520  5476.300  1014.511  \n1               True  3106.079  5574.209  1186.110  \n2               True  3676.997  5271.281   890.752  \n3               True  3717.180  5455.125  1103.210  \n4               True  3525.117  5614.423  1112.576  \nLoading JSON file: /kaggle/input/czii-cryo-et-object-identification/train/overlay/ExperimentRuns/TS_99_9/Picks/thyroglobulin.json\naquiii   pickable_object_name   user_id  session_id run_name  voxel_spacing  \\\n0        thyroglobulin  curation           0  TS_99_9            NaN   \n1        thyroglobulin  curation           0  TS_99_9            NaN   \n2        thyroglobulin  curation           0  TS_99_9            NaN   \n3        thyroglobulin  curation           0  TS_99_9            NaN   \n4        thyroglobulin  curation           0  TS_99_9            NaN   \n\n       unit                                             points  \\\n0  angstrom  {'location': {'x': 638.516, 'y': 1499.883, 'z'...   \n1  angstrom  {'location': {'x': 2038.81, 'y': 214.041, 'z':...   \n2  angstrom  {'location': {'x': 1504.54, 'y': 3662.02, 'z':...   \n3  angstrom  {'location': {'x': 2166.658, 'y': 2000.169, 'z...   \n4  angstrom  {'location': {'x': 656.526, 'y': 1988.951, 'z'...   \n\n   trust_orientation         x  \n0               True   638.516  \n1               True  2038.810  \n2               True  1504.540  \n3               True  2166.658  \n4               True   656.526  \naquiii   pickable_object_name   user_id  session_id run_name  voxel_spacing  \\\n0        thyroglobulin  curation           0  TS_99_9            NaN   \n1        thyroglobulin  curation           0  TS_99_9            NaN   \n2        thyroglobulin  curation           0  TS_99_9            NaN   \n3        thyroglobulin  curation           0  TS_99_9            NaN   \n4        thyroglobulin  curation           0  TS_99_9            NaN   \n\n       unit                                             points  \\\n0  angstrom  {'location': {'x': 638.516, 'y': 1499.883, 'z'...   \n1  angstrom  {'location': {'x': 2038.81, 'y': 214.041, 'z':...   \n2  angstrom  {'location': {'x': 1504.54, 'y': 3662.02, 'z':...   \n3  angstrom  {'location': {'x': 2166.658, 'y': 2000.169, 'z...   \n4  angstrom  {'location': {'x': 656.526, 'y': 1988.951, 'z'...   \n\n   trust_orientation         x         y  \n0               True   638.516  1499.883  \n1               True  2038.810   214.041  \n2               True  1504.540  3662.020  \n3               True  2166.658  2000.169  \n4               True   656.526  1988.951  \naquiii ",
          "output_type": "stream"
        },
        {
          "name": "stderr",
          "text": "Processing particles for run TS_99_9: 100%|██████████| 6/6 [00:00<00:00, 10.44it/s]",
          "output_type": "stream"
        },
        {
          "name": "stdout",
          "text": "  pickable_object_name   user_id  session_id run_name  voxel_spacing  \\\n0        thyroglobulin  curation           0  TS_99_9            NaN   \n1        thyroglobulin  curation           0  TS_99_9            NaN   \n2        thyroglobulin  curation           0  TS_99_9            NaN   \n3        thyroglobulin  curation           0  TS_99_9            NaN   \n4        thyroglobulin  curation           0  TS_99_9            NaN   \n\n       unit                                             points  \\\n0  angstrom  {'location': {'x': 638.516, 'y': 1499.883, 'z'...   \n1  angstrom  {'location': {'x': 2038.81, 'y': 214.041, 'z':...   \n2  angstrom  {'location': {'x': 1504.54, 'y': 3662.02, 'z':...   \n3  angstrom  {'location': {'x': 2166.658, 'y': 2000.169, 'z...   \n4  angstrom  {'location': {'x': 656.526, 'y': 1988.951, 'z'...   \n\n   trust_orientation         x         y        z  \n0               True   638.516  1499.883  279.570  \n1               True  2038.810   214.041  361.807  \n2               True  1504.540  3662.020  566.838  \n3               True  2166.658  2000.169  547.046  \n4               True   656.526  1988.951  597.846  \nLoading JSON file: /kaggle/input/czii-cryo-et-object-identification/train/overlay/ExperimentRuns/TS_99_9/Picks/virus-like-particle.json\naquiii   pickable_object_name   user_id  session_id run_name  voxel_spacing  \\\n0  virus-like-particle  curation           0  TS_99_9            NaN   \n1  virus-like-particle  curation           0  TS_99_9            NaN   \n2  virus-like-particle  curation           0  TS_99_9            NaN   \n3  virus-like-particle  curation           0  TS_99_9            NaN   \n4  virus-like-particle  curation           0  TS_99_9            NaN   \n\n       unit                                             points  \\\n0  angstrom  {'location': {'x': 2766.389, 'y': 185.542, 'z'...   \n1  angstrom  {'location': {'x': 3084.893, 'y': 487.084, 'z'...   \n2  angstrom  {'location': {'x': 3693.973, 'y': 2932.983, 'z...   \n3  angstrom  {'location': {'x': 3010.666, 'y': 2469.137, 'z...   \n4  angstrom  {'location': {'x': 556.664, 'y': 3167.112, 'z'...   \n\n   trust_orientation         x  \n0               True  2766.389  \n1               True  3084.893  \n2               True  3693.973  \n3               True  3010.666  \n4               True   556.664  \naquiii   pickable_object_name   user_id  session_id run_name  voxel_spacing  \\\n0  virus-like-particle  curation           0  TS_99_9            NaN   \n1  virus-like-particle  curation           0  TS_99_9            NaN   \n2  virus-like-particle  curation           0  TS_99_9            NaN   \n3  virus-like-particle  curation           0  TS_99_9            NaN   \n4  virus-like-particle  curation           0  TS_99_9            NaN   \n\n       unit                                             points  \\\n0  angstrom  {'location': {'x': 2766.389, 'y': 185.542, 'z'...   \n1  angstrom  {'location': {'x': 3084.893, 'y': 487.084, 'z'...   \n2  angstrom  {'location': {'x': 3693.973, 'y': 2932.983, 'z...   \n3  angstrom  {'location': {'x': 3010.666, 'y': 2469.137, 'z...   \n4  angstrom  {'location': {'x': 556.664, 'y': 3167.112, 'z'...   \n\n   trust_orientation         x         y  \n0               True  2766.389   185.542  \n1               True  3084.893   487.084  \n2               True  3693.973  2932.983  \n3               True  3010.666  2469.137  \n4               True   556.664  3167.112  \naquiii   pickable_object_name   user_id  session_id run_name  voxel_spacing  \\\n0  virus-like-particle  curation           0  TS_99_9            NaN   \n1  virus-like-particle  curation           0  TS_99_9            NaN   \n2  virus-like-particle  curation           0  TS_99_9            NaN   \n3  virus-like-particle  curation           0  TS_99_9            NaN   \n4  virus-like-particle  curation           0  TS_99_9            NaN   \n\n       unit                                             points  \\\n0  angstrom  {'location': {'x': 2766.389, 'y': 185.542, 'z'...   \n1  angstrom  {'location': {'x': 3084.893, 'y': 487.084, 'z'...   \n2  angstrom  {'location': {'x': 3693.973, 'y': 2932.983, 'z...   \n3  angstrom  {'location': {'x': 3010.666, 'y': 2469.137, 'z...   \n4  angstrom  {'location': {'x': 556.664, 'y': 3167.112, 'z'...   \n\n   trust_orientation         x         y        z  \n0               True  2766.389   185.542  510.129  \n1               True  3084.893   487.084  760.823  \n2               True  3693.973  2932.983  620.271  \n3               True  3010.666  2469.137  884.272  \n4               True   556.664  3167.112  664.183  \nProcessing Run 7: TS_0, Is Train: True\nVolume path: /kaggle/input/czii-cryo-et-object-identification/train/static/ExperimentRuns/TS_0/VoxelSpacing10.000/denoised.zarr\nVolume file not found: /kaggle/input/czii-cryo-et-object-identification/train/static/ExperimentRuns/TS_0/VoxelSpacing10.000/denoised.zarr\nProcessing Run 8: TS_1, Is Train: True\n",
          "output_type": "stream"
        },
        {
          "name": "stderr",
          "text": "\n",
          "output_type": "stream"
        },
        {
          "name": "stdout",
          "text": "Volume path: /kaggle/input/czii10441/10441/TS_1/Reconstructions/VoxelSpacing10.000/Tomograms/100/TS_1.zarr\n184\n",
          "output_type": "stream"
        },
        {
          "name": "stderr",
          "text": "Processing particles for run TS_1: 100%|██████████| 6/6 [00:01<00:00,  3.30it/s]\n",
          "output_type": "stream"
        },
        {
          "name": "stdout",
          "text": "Processing Run 9: TS_10, Is Train: True\nVolume path: /kaggle/input/czii10441/10441/TS_10/Reconstructions/VoxelSpacing10.000/Tomograms/100/TS_10.zarr\n184\n",
          "output_type": "stream"
        },
        {
          "name": "stderr",
          "text": "Processing particles for run TS_10: 100%|██████████| 6/6 [00:02<00:00,  3.00it/s]\n",
          "output_type": "stream"
        },
        {
          "name": "stdout",
          "text": "Processing Run 10: TS_11, Is Train: True\nVolume path: /kaggle/input/czii10441/10441/TS_11/Reconstructions/VoxelSpacing10.000/Tomograms/100/TS_11.zarr\n184\n",
          "output_type": "stream"
        },
        {
          "name": "stderr",
          "text": "Processing particles for run TS_11: 100%|██████████| 6/6 [00:01<00:00,  3.29it/s]\n",
          "output_type": "stream"
        },
        {
          "name": "stdout",
          "text": "Processing Run 11: TS_12, Is Train: True\nVolume path: /kaggle/input/czii10441/10441/TS_12/Reconstructions/VoxelSpacing10.000/Tomograms/100/TS_12.zarr\n184\n",
          "output_type": "stream"
        },
        {
          "name": "stderr",
          "text": "Processing particles for run TS_12: 100%|██████████| 6/6 [00:01<00:00,  3.14it/s]\n",
          "output_type": "stream"
        },
        {
          "name": "stdout",
          "text": "Processing Run 12: TS_13, Is Train: True\nVolume path: /kaggle/input/czii10441/10441/TS_13/Reconstructions/VoxelSpacing10.000/Tomograms/100/TS_13.zarr\n184\n",
          "output_type": "stream"
        },
        {
          "name": "stderr",
          "text": "Processing particles for run TS_13: 100%|██████████| 6/6 [00:01<00:00,  3.40it/s]\n",
          "output_type": "stream"
        },
        {
          "name": "stdout",
          "text": "Processing Run 13: TS_14, Is Train: True\nVolume path: /kaggle/input/czii10441/10441/TS_14/Reconstructions/VoxelSpacing10.000/Tomograms/100/TS_14.zarr\n184\n",
          "output_type": "stream"
        },
        {
          "name": "stderr",
          "text": "Processing particles for run TS_14: 100%|██████████| 6/6 [00:02<00:00,  2.98it/s]\n",
          "output_type": "stream"
        },
        {
          "name": "stdout",
          "text": "Processing Run 14: TS_15, Is Train: True\nVolume path: /kaggle/input/czii10441/10441/TS_15/Reconstructions/VoxelSpacing10.000/Tomograms/100/TS_15.zarr\n184\n",
          "output_type": "stream"
        },
        {
          "name": "stderr",
          "text": "Processing particles for run TS_15: 100%|██████████| 6/6 [00:01<00:00,  3.14it/s]\n",
          "output_type": "stream"
        },
        {
          "name": "stdout",
          "text": "Processing Run 15: TS_16, Is Train: True\nVolume path: /kaggle/input/czii10441/10441/TS_16/Reconstructions/VoxelSpacing10.000/Tomograms/100/TS_16.zarr\n184\n",
          "output_type": "stream"
        },
        {
          "name": "stderr",
          "text": "Processing particles for run TS_16: 100%|██████████| 6/6 [00:01<00:00,  3.06it/s]\n",
          "output_type": "stream"
        },
        {
          "name": "stdout",
          "text": "Processing Run 16: TS_17, Is Train: True\nVolume path: /kaggle/input/czii10441/10441/TS_17/Reconstructions/VoxelSpacing10.000/Tomograms/100/TS_17.zarr\n184\n",
          "output_type": "stream"
        },
        {
          "name": "stderr",
          "text": "Processing particles for run TS_17: 100%|██████████| 6/6 [00:01<00:00,  3.28it/s]\n",
          "output_type": "stream"
        },
        {
          "name": "stdout",
          "text": "Processing Run 17: TS_18, Is Train: True\nVolume path: /kaggle/input/czii10441/10441/TS_18/Reconstructions/VoxelSpacing10.000/Tomograms/100/TS_18.zarr\n184\n",
          "output_type": "stream"
        },
        {
          "name": "stderr",
          "text": "Processing particles for run TS_18: 100%|██████████| 6/6 [00:02<00:00,  2.72it/s]\n",
          "output_type": "stream"
        },
        {
          "name": "stdout",
          "text": "Processing Run 18: TS_19, Is Train: True\nVolume path: /kaggle/input/czii10441/10441/TS_19/Reconstructions/VoxelSpacing10.000/Tomograms/100/TS_19.zarr\n184\n",
          "output_type": "stream"
        },
        {
          "name": "stderr",
          "text": "Processing particles for run TS_19: 100%|██████████| 6/6 [00:02<00:00,  2.95it/s]\n",
          "output_type": "stream"
        },
        {
          "name": "stdout",
          "text": "Processing Run 19: TS_2, Is Train: True\nVolume path: /kaggle/input/czii10441/10441/TS_2/Reconstructions/VoxelSpacing10.000/Tomograms/100/TS_2.zarr\n184\n",
          "output_type": "stream"
        },
        {
          "name": "stderr",
          "text": "Processing particles for run TS_2: 100%|██████████| 6/6 [00:01<00:00,  3.13it/s]\n",
          "output_type": "stream"
        },
        {
          "name": "stdout",
          "text": "Processing Run 20: TS_20, Is Train: True\nVolume path: /kaggle/input/czii10441/10441/TS_20/Reconstructions/VoxelSpacing10.000/Tomograms/100/TS_20.zarr\n184\n",
          "output_type": "stream"
        },
        {
          "name": "stderr",
          "text": "Processing particles for run TS_20: 100%|██████████| 6/6 [00:01<00:00,  3.18it/s]\n",
          "output_type": "stream"
        },
        {
          "name": "stdout",
          "text": "Processing Run 21: TS_21, Is Train: True\nVolume path: /kaggle/input/czii10441/10441/TS_21/Reconstructions/VoxelSpacing10.000/Tomograms/100/TS_21.zarr\n184\n",
          "output_type": "stream"
        },
        {
          "name": "stderr",
          "text": "Processing particles for run TS_21: 100%|██████████| 6/6 [00:01<00:00,  3.25it/s]\n",
          "output_type": "stream"
        },
        {
          "name": "stdout",
          "text": "Processing Run 22: TS_22, Is Train: True\nVolume path: /kaggle/input/czii10441/10441/TS_22/Reconstructions/VoxelSpacing10.000/Tomograms/100/TS_22.zarr\n184\n",
          "output_type": "stream"
        },
        {
          "name": "stderr",
          "text": "Processing particles for run TS_22: 100%|██████████| 6/6 [00:01<00:00,  3.54it/s]\n",
          "output_type": "stream"
        },
        {
          "name": "stdout",
          "text": "Processing Run 23: TS_23, Is Train: True\nVolume path: /kaggle/input/czii10441/10441/TS_23/Reconstructions/VoxelSpacing10.000/Tomograms/100/TS_23.zarr\n184\n",
          "output_type": "stream"
        },
        {
          "name": "stderr",
          "text": "Processing particles for run TS_23: 100%|██████████| 6/6 [00:01<00:00,  3.21it/s]\n",
          "output_type": "stream"
        },
        {
          "name": "stdout",
          "text": "Processing Run 24: TS_24, Is Train: True\nVolume path: /kaggle/input/czii10441/10441/TS_24/Reconstructions/VoxelSpacing10.000/Tomograms/100/TS_24.zarr\n184\n",
          "output_type": "stream"
        },
        {
          "name": "stderr",
          "text": "Processing particles for run TS_24: 100%|██████████| 6/6 [00:01<00:00,  3.44it/s]\n",
          "output_type": "stream"
        },
        {
          "name": "stdout",
          "text": "Processing Run 25: TS_25, Is Train: True\nVolume path: /kaggle/input/czii10441/10441/TS_25/Reconstructions/VoxelSpacing10.000/Tomograms/100/TS_25.zarr\n184\n",
          "output_type": "stream"
        },
        {
          "name": "stderr",
          "text": "Processing particles for run TS_25: 100%|██████████| 6/6 [00:01<00:00,  3.12it/s]\n",
          "output_type": "stream"
        },
        {
          "name": "stdout",
          "text": "Processing Run 26: TS_26, Is Train: True\nVolume path: /kaggle/input/czii10441/10441/TS_26/Reconstructions/VoxelSpacing10.000/Tomograms/100/TS_26.zarr\n184\n",
          "output_type": "stream"
        },
        {
          "name": "stderr",
          "text": "Processing particles for run TS_26: 100%|██████████| 6/6 [00:01<00:00,  3.37it/s]\n",
          "output_type": "stream"
        },
        {
          "name": "stdout",
          "text": "Processing Run 27: TS_3, Is Train: True\nVolume path: /kaggle/input/czii10441/10441/TS_3/Reconstructions/VoxelSpacing10.000/Tomograms/100/TS_3.zarr\n184\n",
          "output_type": "stream"
        },
        {
          "name": "stderr",
          "text": "Processing particles for run TS_3: 100%|██████████| 6/6 [00:02<00:00,  2.58it/s]\n",
          "output_type": "stream"
        },
        {
          "name": "stdout",
          "text": "Processing Run 28: TS_4, Is Train: True\nVolume path: /kaggle/input/czii10441/10441/TS_4/Reconstructions/VoxelSpacing10.000/Tomograms/100/TS_4.zarr\n184\n",
          "output_type": "stream"
        },
        {
          "name": "stderr",
          "text": "Processing particles for run TS_4: 100%|██████████| 6/6 [00:01<00:00,  3.31it/s]\n",
          "output_type": "stream"
        },
        {
          "name": "stdout",
          "text": "Processing Run 29: TS_5, Is Train: True\nVolume path: /kaggle/input/czii10441/10441/TS_5/Reconstructions/VoxelSpacing10.000/Tomograms/100/TS_5.zarr\n184\n",
          "output_type": "stream"
        },
        {
          "name": "stderr",
          "text": "Processing particles for run TS_5: 100%|██████████| 6/6 [00:01<00:00,  3.06it/s]\n",
          "output_type": "stream"
        },
        {
          "name": "stdout",
          "text": "Processing Run 30: TS_6, Is Train: True\nVolume path: /kaggle/input/czii10441/10441/TS_6/Reconstructions/VoxelSpacing10.000/Tomograms/100/TS_6.zarr\n184\n",
          "output_type": "stream"
        },
        {
          "name": "stderr",
          "text": "Processing particles for run TS_6: 100%|██████████| 6/6 [00:01<00:00,  3.38it/s]\n",
          "output_type": "stream"
        },
        {
          "name": "stdout",
          "text": "Processing Run 31: TS_7, Is Train: True\nVolume path: /kaggle/input/czii10441/10441/TS_7/Reconstructions/VoxelSpacing10.000/Tomograms/100/TS_7.zarr\n184\n",
          "output_type": "stream"
        },
        {
          "name": "stderr",
          "text": "Processing particles for run TS_7: 100%|██████████| 6/6 [00:01<00:00,  3.23it/s]\n",
          "output_type": "stream"
        },
        {
          "name": "stdout",
          "text": "Processing Run 32: TS_8, Is Train: True\nVolume path: /kaggle/input/czii10441/10441/TS_8/Reconstructions/VoxelSpacing10.000/Tomograms/100/TS_8.zarr\n184\n",
          "output_type": "stream"
        },
        {
          "name": "stderr",
          "text": "Processing particles for run TS_8: 100%|██████████| 6/6 [00:01<00:00,  3.42it/s]\n",
          "output_type": "stream"
        },
        {
          "name": "stdout",
          "text": "Processing Run 33: TS_9, Is Train: True\nVolume path: /kaggle/input/czii10441/10441/TS_9/Reconstructions/VoxelSpacing10.000/Tomograms/100/TS_9.zarr\n184\n",
          "output_type": "stream"
        },
        {
          "name": "stderr",
          "text": "Processing particles for run TS_9: 100%|██████████| 6/6 [00:02<00:00,  2.62it/s]\n",
          "output_type": "stream"
        }
      ],
      "execution_count": null
    },
    {
      "cell_type": "code",
      "source": [
        "images_train_dir = \"images/train\"\n",
        "labels_train_dir = \"labels/train\""
      ],
      "metadata": {
        "_uuid": "390a5cd1-2d59-4fa0-a1b6-edd122c887e9",
        "_cell_guid": "cc22d3d5-0a26-40ea-b62b-974576ad9a6a",
        "trusted": true,
        "jupyter": {
          "outputs_hidden": false
        },
        "execution": {
          "iopub.status.busy": "2025-01-27T16:13:34.527912Z",
          "iopub.execute_input": "2025-01-27T16:13:34.528366Z",
          "iopub.status.idle": "2025-01-27T16:13:34.535858Z",
          "shell.execute_reply.started": "2025-01-27T16:13:34.528326Z",
          "shell.execute_reply": "2025-01-27T16:13:34.534630Z"
        },
        "id": "Wuu3xXLsiYSY"
      },
      "outputs": [],
      "execution_count": null
    },
    {
      "cell_type": "markdown",
      "source": [
        "# Organize Dataset Folder Structure"
      ],
      "metadata": {
        "_uuid": "98bf6e70-60fb-4ea1-9e18-f37b93edc18d",
        "_cell_guid": "b9ef70c2-6ecf-4df7-ac67-4a98c514ef04",
        "trusted": true,
        "collapsed": false,
        "jupyter": {
          "outputs_hidden": false
        },
        "id": "FmR8ls5ViYSY"
      }
    },
    {
      "cell_type": "code",
      "source": [
        "os.makedirs('datasets/czii_det2d', exist_ok=True)\n",
        "shutil.move('images/train', 'datasets/czii_det2d/images/train')\n",
        "shutil.move('images/val', 'datasets/czii_det2d/images/val')\n",
        "shutil.move('labels/train', 'datasets/czii_det2d/labels/train')\n",
        "shutil.move('labels/val', 'datasets/czii_det2d/labels/val')"
      ],
      "metadata": {
        "_uuid": "686b1713-0c0a-48b7-9d6e-f830d97c0130",
        "_cell_guid": "70708187-9846-4313-8261-f21e9f3c2f15",
        "trusted": true,
        "jupyter": {
          "outputs_hidden": false
        },
        "execution": {
          "iopub.status.busy": "2025-01-27T16:13:34.537611Z",
          "iopub.execute_input": "2025-01-27T16:13:34.537994Z",
          "iopub.status.idle": "2025-01-27T16:13:55.640448Z",
          "shell.execute_reply.started": "2025-01-27T16:13:34.537960Z",
          "shell.execute_reply": "2025-01-27T16:13:55.638333Z"
        },
        "id": "OgAiyubyiYSY",
        "outputId": "284a2f84-2e8c-4432-e7c3-d70535405080"
      },
      "outputs": [
        {
          "execution_count": 14,
          "output_type": "execute_result",
          "data": {
            "text/plain": "'datasets/czii_det2d/labels/val'"
          },
          "metadata": {}
        }
      ],
      "execution_count": null
    },
    {
      "cell_type": "markdown",
      "source": [
        "# Create Configuration File for YOLO"
      ],
      "metadata": {
        "_uuid": "72c7df24-864f-45fa-bdc2-f14784ce4865",
        "_cell_guid": "8a5148ef-98d0-4060-9ea7-d6610fceee6d",
        "trusted": true,
        "collapsed": false,
        "jupyter": {
          "outputs_hidden": false
        },
        "id": "rK1APObDiYSZ"
      }
    },
    {
      "cell_type": "code",
      "source": [
        "config_content = \"\"\"\n",
        "path: /kaggle/input/czii-yolo-datasets-kim/datasets/czii_det2d  # dataset root dir\n",
        "train: images/train  # train images (relative to 'path')\n",
        "val: images/val  # val images (relative to 'path')\n",
        "\n",
        "# Classes\n",
        "names:\n",
        "  0: apo-ferritin\n",
        "  1: beta-amylase\n",
        "  2: beta-galactosidase\n",
        "  3: ribosome\n",
        "  4: thyroglobulin\n",
        "  5: virus-like-particle\n",
        "\"\"\"    #YOLO 모델이 데이터셋을 올바르게 사용할 수 있도록 도와주는 중간다리\n",
        "with open(\"czii_conf.yaml\", \"w\") as f:\n",
        "    f.write(config_content.strip())\n",
        "\n",
        "print(\"Configuration file 'czii_conf.yaml' created successfully.\")\n",
        "\n",
        "'''\n",
        "그럼 3D 데이터는 랜덤으로 슬라이스를 하고, 좌표값으로부터 범위를 지정한다음\n",
        "그 범위 안의 모든 슬라이스의 이미지를 하나의 레이블과 매칭시킨다는건가?\n",
        "\n",
        "네, 정확합니다. 3D 데이터에서 입자의 좌표와 반지름 정보를 바탕으로, 입자가 포함되는 Z축 범위를 계산하고,\n",
        "그 범위 내의 모든 슬라이스에 대해 하나의 레이블을 부여하는 방식입니다.\n",
        "\n",
        "요약하자면:\n",
        "3D 데이터에서 입자 위치 추출:\n",
        "\n",
        "각 입자의 x, y, z 좌표가 주어집니다.\n",
        "반지름(radius)은 입자의 크기를 나타내며, 이 값으로 해당 입자가 영향을 미치는 범위를 계산합니다.\n",
        "Z축 범위 계산:\n",
        "\n",
        "start_z는 입자의 z 좌표에서 반지름을 뺀 값입니다.\n",
        "end_z는 입자의 z 좌표에서 반지름을 더한 값입니다.\n",
        "이 범위는 해당 입자가 차지하는 Z축 영역을 정의합니다.\n",
        "슬라이스 범위 추출:\n",
        "\n",
        "start_z와 end_z를 이용해 해당 입자가 포함되는 슬라이스 범위를 구합니다.\n",
        "범위 내에 해당하는 모든 슬라이스 인덱스(j)에 대해 입자에 대한 레이블을 기록합니다.\n",
        "레이블 기록:\n",
        "\n",
        "각 슬라이스(j)에서 입자의 x, y 좌표를 정규화하여 레이블을 기록합니다.\n",
        "이때, 레이블 파일은 각 슬라이스에 대해 따로 생성되며, 그 슬라이스에 해당하는 입자의 정보를 하나의 레이블로 매칭시킵니다.\n",
        "구체적으로:\n",
        "예를 들어, z 좌표가 50이고, 반지름이 5인 입자가 있다고 가정해봅시다.\n",
        "start_z = 50 - 5 = 45\n",
        "end_z = 50 + 5 = 55\n",
        "그러면, z 값이 45, 46, 47, ..., 55인 슬라이스들은 모두 이 입자에 대한 레이블을 공유하게 됩니다.\n",
        "결론:\n",
        "입자가 특정 범위의 슬라이스에 걸쳐 있으면, 그 범위 내의 모든 슬라이스에 대해 하나의 입자에 대한 레이블을 부여하고,\n",
        " 각 슬라이스에서 해당 입자의 x, y 좌표와 크기를 정규화하여 레이블 파일에 기록합니다.\n",
        " 이로써 3D 데이터에서 입자가 나타나는 모든 슬라이스에서 하나의 레이블이 다시 매칭되는 방식이 됩니다.'\n"
      ],
      "metadata": {
        "_uuid": "8be4cb0f-2730-467e-a3aa-9f6502afa1df",
        "_cell_guid": "143585cf-e8a9-4a24-b8c5-7866d790b8cb",
        "trusted": true,
        "jupyter": {
          "outputs_hidden": false
        },
        "execution": {
          "iopub.status.busy": "2025-01-27T16:13:55.642097Z",
          "iopub.execute_input": "2025-01-27T16:13:55.642493Z",
          "iopub.status.idle": "2025-01-27T16:13:55.651404Z",
          "shell.execute_reply.started": "2025-01-27T16:13:55.642456Z",
          "shell.execute_reply": "2025-01-27T16:13:55.650227Z"
        },
        "id": "HhhkAiz0iYSZ",
        "outputId": "8e310378-f557-4dc4-86a2-1ba343abc3f6"
      },
      "outputs": [
        {
          "name": "stdout",
          "text": "Configuration file 'czii_conf.yaml' created successfully.\n",
          "output_type": "stream"
        }
      ],
      "execution_count": null
    },
    {
      "cell_type": "code",
      "source": [
        "shutil.make_archive(\"/kaggle/working/datasets\", 'gztar', \"/kaggle/working/datasets\")"
      ],
      "metadata": {
        "trusted": true,
        "execution": {
          "iopub.status.busy": "2025-01-27T16:16:57.442384Z",
          "iopub.execute_input": "2025-01-27T16:16:57.443041Z",
          "iopub.status.idle": "2025-01-27T16:21:48.842807Z",
          "shell.execute_reply.started": "2025-01-27T16:16:57.442988Z",
          "shell.execute_reply": "2025-01-27T16:21:48.841306Z"
        },
        "id": "FrJqIfeCiYSZ",
        "outputId": "9ffb0e13-b658-40aa-c657-79f3543782f1"
      },
      "outputs": [
        {
          "execution_count": 16,
          "output_type": "execute_result",
          "data": {
            "text/plain": "'/kaggle/working/datasets.tar.gz'"
          },
          "metadata": {}
        }
      ],
      "execution_count": null
    },
    {
      "cell_type": "markdown",
      "source": [
        "# Continue to Training Baseline\n",
        "Proceed to [Training Baseline...](https://www.kaggle.com/code/itsuki9180/czii-yolo11-training-baseline)"
      ],
      "metadata": {
        "_uuid": "4c091dd3-6622-4b9a-a6b9-e76fd601f34b",
        "_cell_guid": "92a6b0de-1af0-48e0-9273-12b580e1b2ac",
        "trusted": true,
        "collapsed": false,
        "jupyter": {
          "outputs_hidden": false
        },
        "id": "H21bS7FsiYSa"
      }
    }
  ]
}